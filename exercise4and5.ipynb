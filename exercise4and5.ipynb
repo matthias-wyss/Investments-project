{
 "cells": [
  {
   "cell_type": "code",
   "execution_count": 1,
   "id": "121004c3",
   "metadata": {},
   "outputs": [],
   "source": [
    "import pandas as pd\n",
    "import numpy as np\n",
    "from scipy import stats\n",
    "import statsmodels.api as sm"
   ]
  },
  {
   "cell_type": "code",
   "execution_count": 37,
   "id": "afad1f2b",
   "metadata": {},
   "outputs": [],
   "source": [
    "df_hedged_returns = pd.read_csv(\"data/q3/hedged_returns.csv\",\n",
    "                                   parse_dates=[\"date\"],\n",
    "                                   index_col=\"date\")\n",
    "\n",
    "df = df_hedged_returns.rename(columns={\n",
    "    \"australia_hedged_return_usd\":   \"AUS\",\n",
    "    \"france_hedged_return_usd\":      \"FRA\",\n",
    "    \"germany_hedged_return_usd\":     \"GER\",\n",
    "    \"japan_hedged_return_usd\":       \"JPN\",\n",
    "    \"switzerland_hedged_return_usd\": \"SWI\",\n",
    "    \"uk_hedged_return_usd\":          \"UK\"\n",
    "})\n",
    "\n",
    "\n",
    "# Convert the 'date' column to datetime format and shift to the first day of the next month\n",
    "df_tbills = pd.read_csv('data/monthly_returns/tbills.csv')\n",
    "df_tbills['date'] = pd.to_datetime(df_tbills['date']) + pd.offsets.MonthBegin(1)\n",
    "df_tbills.set_index('date', inplace=True)\n",
    "df_tbills.to_csv('data/preprocess/tbills.csv')\n",
    "\n",
    "# To match the hedged return we drop the last two rows (January 2025 and December 2024)\n",
    "tbill = df_tbills.rename(columns={\"rf\": \"TBill1Mo\"})[\"TBill1Mo\"].iloc[:-2]\n",
    "\n",
    "#\n",
    "#   div_df = pd.read_csv(\"data/q3/div_returns.csv\", parse_dates=[\"date\"], index_col=\"date\")\n",
    "#   div = div_df[\"DIV_return\"]   # a pandas Series of DIV returns, index matches 2002-05-01 ... etc.\n",
    "#\n",
    "\n",
    "one_plus = 1.0 + df"
   ]
  },
  {
   "cell_type": "markdown",
   "id": "61f0993a",
   "metadata": {},
   "source": [
    "### 4 Equity Index Momentum Strategy (MOM)"
   ]
  },
  {
   "cell_type": "code",
   "execution_count": 41,
   "id": "666a80ed",
   "metadata": {},
   "outputs": [
    {
     "name": "stdout",
     "output_type": "stream",
     "text": [
      "=== MOMENTUM (MOM) Strategy Statistics ===\n",
      "Overall MOM       : Annualized Return = 28.29%, Volatility = 15.10%, Sharpe = 1.78\n",
      "MOM Long Leg      : Annualized Return = 28.89%, Volatility = 17.84%, Sharpe = 1.54\n",
      "MOM Short Leg     : Annualized Return = -0.59%, Volatility = 15.85%, Sharpe = -0.13\n",
      "MOM mean-return t-stat = 8.703, p-value = 0.000\n",
      "\n"
     ]
    }
   ],
   "source": [
    "# Compute 11-month lookback cumulative return, then shift by 1 to impose 1-month lag:\n",
    "cumprod_11 = one_plus.rolling(window=12).apply(np.prod, raw=True).shift(1) - 1\n",
    "\n",
    "# Rank each row (month) ascending\n",
    "ranks_11 = cumprod_11.rank(axis=1, method=\"first\", ascending=True)\n",
    "\n",
    "# Compute scaling factor Z so that ∑_{i: w>0} w = +1 and ∑_{i: w<0} w = -1.\n",
    "N = df.shape[1]             \n",
    "mean_rank = (N + 1) / 2.0    \n",
    "if N % 2 == 0:\n",
    "    Z = 8.0 / (N**2)       \n",
    "else:\n",
    "    Z = 8.0 / (N**2 - 1)   \n",
    "\n",
    "# Compute MOM weights\n",
    "w_mom = Z * (ranks_11 - mean_rank)\n",
    "\n",
    "# Strategy return at month \n",
    "mom_ret = (w_mom * df).sum(axis=1, skipna=False)\n",
    "\n",
    "# Decompose the “long leg” (w>0) and “short leg” (w<0) returns:\n",
    "long_w_mom  = w_mom.clip(lower=0)\n",
    "short_w_mom = w_mom.clip(upper=0)\n",
    "mom_long_ret  = (long_w_mom  * df).sum(axis=1, skipna=False)\n",
    "mom_short_ret = (short_w_mom * df).sum(axis=1, skipna=False)\n",
    "\n",
    "# Align with T-Bill series, drop NaNs for clean statistics:\n",
    "mom_df = pd.DataFrame({\n",
    "    \"MOM\":   mom_ret,\n",
    "    \"LONG\":  mom_long_ret,\n",
    "    \"SHORT\": mom_short_ret,\n",
    "    \"TBill\": tbill\n",
    "}).dropna()\n",
    "\n",
    "# Helper to compute annualized mean, vol, and Sharpe\n",
    "def annualized_stats(returns, rf, period = 12):\n",
    "    \"\"\"\n",
    "    Given two pandas Series of monthly returns (decimal):\n",
    "      - returns: strategy returns\n",
    "      - rf:      risk-free returns\n",
    "    Returns (annualized_mean, annualized_vol, annualized_sharpe).\n",
    "    \"\"\"\n",
    "    mean_annual_return = period * returns.mean()\n",
    "    std_annual_return = np.sqrt(period) * returns.std()\n",
    "    rf_annual = period * rf.mean()\n",
    "    excess_ret = mean_annual_return - rf_annual\n",
    "    sharpe_ratio = excess_ret / std_annual_return\n",
    "    return mean_annual_return, std_annual_return, sharpe_ratio\n",
    "\n",
    "mean_mom, sigma_mom, sharpe_mom = annualized_stats(mom_df[\"MOM\"], mom_df[\"TBill\"])\n",
    "mean_mL,  sigma_mL,  sharpe_mL  = annualized_stats(mom_df[\"LONG\"], mom_df[\"TBill\"])\n",
    "mean_mS,  sigma_mS,  sharpe_mS  = annualized_stats(mom_df[\"SHORT\"],mom_df[\"TBill\"])\n",
    "\n",
    "# One-sample t-test: H0: mean(MOM) = 0\n",
    "t_stat_mom, p_val_mom = stats.ttest_1samp(mom_df[\"MOM\"], popmean=0.0)\n",
    "\n",
    "# Regress MOM on DIV (Newey-West errors, lag=1)\n",
    "#reg_mom_div = pd.DataFrame({\n",
    "#    \"MOM\": mom_ret,\n",
    "#    \"DIV\": div\n",
    "#}).dropna()\n",
    "\n",
    "#X_m = sm.add_constant(reg_mom_div[\"DIV\"])\n",
    "#y_m = reg_mom_div[\"MOM\"]\n",
    "#mom_on_div = sm.OLS(y_m, X_m).fit(cov_type=\"HAC\", cov_kwds={\"maxlags\": 1})\n",
    "\n",
    "print(\"=== MOMENTUM (MOM) Strategy Statistics ===\")\n",
    "print(f\"Overall MOM       : Annualized Return = {mean_mom:.2%}, \"\n",
    "      f\"Volatility = {sigma_mom:.2%}, Sharpe = {sharpe_mom:.2f}\")\n",
    "print(f\"MOM Long Leg      : Annualized Return = {mean_mL:.2%}, \"\n",
    "      f\"Volatility = {sigma_mL:.2%}, Sharpe = {sharpe_mL:.2f}\")\n",
    "print(f\"MOM Short Leg     : Annualized Return = {mean_mS:.2%}, \"\n",
    "      f\"Volatility = {sigma_mS:.2%}, Sharpe = {sharpe_mS:.2f}\")\n",
    "print(f\"MOM mean-return t-stat = {t_stat_mom:.3f}, p-value = {p_val_mom:.3f}\\n\")\n",
    "\n",
    "#print(\">>> Regression of MOM on DIV:\")\n",
    "#print(mom_on_div.summary())\n",
    "#print(\"\\n\")\n"
   ]
  },
  {
   "cell_type": "code",
   "execution_count": null,
   "id": "0a716305",
   "metadata": {},
   "outputs": [],
   "source": [
    "# a)"
   ]
  },
  {
   "cell_type": "code",
   "execution_count": 3,
   "id": "0306c336",
   "metadata": {},
   "outputs": [],
   "source": [
    "# b)"
   ]
  },
  {
   "cell_type": "code",
   "execution_count": 4,
   "id": "dbde5e12",
   "metadata": {},
   "outputs": [],
   "source": [
    "# c)"
   ]
  },
  {
   "cell_type": "markdown",
   "id": "7312c9ff",
   "metadata": {},
   "source": [
    "### 5 Equity Index Long Term Reversal strategy (REV)"
   ]
  },
  {
   "cell_type": "code",
   "execution_count": 39,
   "id": "0f12e7be",
   "metadata": {},
   "outputs": [
    {
     "name": "stdout",
     "output_type": "stream",
     "text": [
      "=== REVERSAL (REV) Strategy Statistics ===\n",
      "Overall REV       : Annualized Return = -13.74%, Volatility = 15.04%, Sharpe = -0.99\n",
      "REV Long Leg      : Annualized Return = 2.89%, Volatility = 15.26%, Sharpe = 0.11\n",
      "REV Short Leg     : Annualized Return = -16.63%, Volatility = 18.04%, Sharpe = -0.99\n",
      "REV mean-return t-stat = -3.831, p-value = 0.000\n",
      "\n"
     ]
    }
   ],
   "source": [
    "# Compute rolling 60-month product and rolling 12-month product:\n",
    "rolling48 = one_plus.rolling(window=60).apply(lambda x: np.prod(x[:-11]), raw=False).shift(1)  - 1\n",
    "\n",
    "# Rank each month ascending \n",
    "ranks_48 = rolling48.rank(axis=1, method=\"first\", ascending=True)\n",
    "\n",
    "# Compute scaling factor Z so that ∑_{i: w>0} w = +1 and ∑_{i: w<0} w = -1.\n",
    "N = df.shape[1]             \n",
    "mean_rank = (N + 1) / 2.0    \n",
    "if N % 2 == 0:\n",
    "    Z = 8.0 / (N**2)       \n",
    "else:\n",
    "    Z = 8.0 / (N**2 - 1) \n",
    "    \n",
    "# Compute MOM weights\n",
    "w_rev = Z * (mean_rank - ranks_48)\n",
    "\n",
    "# Strategy return at t: sum_i [ w_rev[i,t] * df[i,t] ]\n",
    "rev_ret = (w_rev * df).sum(axis=1, skipna=False)\n",
    "\n",
    "# Decompose “long leg” and “short leg” for REV:\n",
    "long_w_rev  = w_rev.clip(lower=0)\n",
    "short_w_rev = w_rev.clip(upper=0)\n",
    "rev_long_ret  = (long_w_rev  * df).sum(axis=1, skipna=False)\n",
    "rev_short_ret = (short_w_rev * df).sum(axis=1, skipna=False)\n",
    "\n",
    "# Align with T-Bill, drop NaNs:\n",
    "rev_df = pd.DataFrame({\n",
    "    \"REV\":   rev_ret,\n",
    "    \"LONG\":  rev_long_ret,\n",
    "    \"SHORT\": rev_short_ret,\n",
    "    \"TBill\": tbill\n",
    "}).dropna()\n",
    "\n",
    "mean_rev, sigma_rev, sharpe_rev = annualized_stats(rev_df[\"REV\"], rev_df[\"TBill\"])\n",
    "mean_rL,  sigma_rL,  sharpe_rL  = annualized_stats(rev_df[\"LONG\"], rev_df[\"TBill\"])\n",
    "mean_rS,  sigma_rS,  sharpe_rS  = annualized_stats(rev_df[\"SHORT\"],rev_df[\"TBill\"])\n",
    "\n",
    "# One-sample t-test for REV mean\n",
    "t_stat_rev, p_val_rev = stats.ttest_1samp(rev_df[\"REV\"], popmean=0.0)\n",
    "\n",
    "# Regress REV on DIV (Newey-West lag=1)\n",
    "#reg_rev_div = pd.DataFrame({\n",
    "#    \"REV\": rev_ret,\n",
    "#    \"DIV\": div\n",
    "#}).dropna()\n",
    "\n",
    "#X_r = sm.add_constant(reg_rev_div[\"DIV\"])\n",
    "#y_r = reg_rev_div[\"REV\"]\n",
    "#rev_on_div = sm.OLS(y_r, X_r).fit(cov_type=\"HAC\", cov_kwds={\"maxlags\": 1})\n",
    "\n",
    "print(\"=== REVERSAL (REV) Strategy Statistics ===\")\n",
    "print(f\"Overall REV       : Annualized Return = {mean_rev:.2%}, \"\n",
    "      f\"Volatility = {sigma_rev:.2%}, Sharpe = {sharpe_rev:.2f}\")\n",
    "print(f\"REV Long Leg      : Annualized Return = {mean_rL:.2%}, \"\n",
    "      f\"Volatility = {sigma_rL:.2%}, Sharpe = {sharpe_rL:.2f}\")\n",
    "print(f\"REV Short Leg     : Annualized Return = {mean_rS:.2%}, \"\n",
    "      f\"Volatility = {sigma_rS:.2%}, Sharpe = {sharpe_rS:.2f}\")\n",
    "print(f\"REV mean-return t-stat = {t_stat_rev:.3f}, p-value = {p_val_rev:.3f}\\n\")\n",
    "\n",
    "#print(\">>> Regression of REV on DIV:\")\n",
    "#print(rev_on_div.summary())"
   ]
  },
  {
   "cell_type": "code",
   "execution_count": 5,
   "id": "03e10fee",
   "metadata": {},
   "outputs": [],
   "source": [
    "# a)"
   ]
  },
  {
   "cell_type": "code",
   "execution_count": 6,
   "id": "58138916",
   "metadata": {},
   "outputs": [],
   "source": [
    "# b) "
   ]
  },
  {
   "cell_type": "code",
   "execution_count": 7,
   "id": "45fc62e8",
   "metadata": {},
   "outputs": [],
   "source": [
    "# c)"
   ]
  }
 ],
 "metadata": {
  "kernelspec": {
   "display_name": "Python 3",
   "language": "python",
   "name": "python3"
  },
  "language_info": {
   "codemirror_mode": {
    "name": "ipython",
    "version": 3
   },
   "file_extension": ".py",
   "mimetype": "text/x-python",
   "name": "python",
   "nbconvert_exporter": "python",
   "pygments_lexer": "ipython3",
   "version": "3.12.8"
  }
 },
 "nbformat": 4,
 "nbformat_minor": 5
}
