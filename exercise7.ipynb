{
 "cells": [
  {
   "cell_type": "code",
   "execution_count": 20,
   "id": "4d880417",
   "metadata": {},
   "outputs": [],
   "source": [
    "import pandas as pd\n",
    "import matplotlib.pyplot as plt\n",
    "import numpy as np\n",
    "import matplotlib.dates as mdates"
   ]
  },
  {
   "cell_type": "code",
   "execution_count": 21,
   "id": "4ea5926f",
   "metadata": {},
   "outputs": [
    {
     "name": "stdout",
     "output_type": "stream",
     "text": [
      "hedged returns \n",
      "             australia_hedged_return_usd  france_hedged_return_usd  \\\n",
      "date                                                                \n",
      "2002-05-01                    -0.092040                 -0.121464   \n",
      "2002-06-01                    -0.064245                 -0.175409   \n",
      "2002-07-01                    -0.021001                 -0.137967   \n",
      "2002-08-01                    -0.002708                 -0.007809   \n",
      "2002-09-01                    -0.087387                 -0.166910   \n",
      "\n",
      "            germany_hedged_return_usd  japan_hedged_return_usd  \\\n",
      "date                                                             \n",
      "2002-05-01                  -0.119228                -0.011291   \n",
      "2002-06-01                  -0.163781                -0.138615   \n",
      "2002-07-01                  -0.142610                -0.073287   \n",
      "2002-08-01                  -0.006058                 0.015716   \n",
      "2002-09-01                  -0.223067                 0.031508   \n",
      "\n",
      "            switzerland_hedged_return_usd  uk_hedged_return_usd  \n",
      "date                                                             \n",
      "2002-05-01                      -0.062297             -0.063316  \n",
      "2002-06-01                      -0.150092             -0.172096  \n",
      "2002-07-01                      -0.145717             -0.141649  \n",
      "2002-08-01                       0.030292             -0.020030  \n",
      "2002-09-01                      -0.080441             -0.148603  \n",
      "              return\n",
      "date                \n",
      "2002-05-01  0.078273\n",
      "2002-06-01  0.144040\n",
      "2002-07-01  0.110372\n",
      "2002-08-01 -0.001567\n",
      "2002-09-01  0.112483\n"
     ]
    }
   ],
   "source": [
    "# Q7 a\n",
    "\n",
    "df_hedged_returns = pd.read_csv(\"data/q3/hedged_returns.csv\", parse_dates=['date'], index_col='date')\n",
    "\n",
    "print(\"hedged returns \\n\", df_hedged_returns.head())\n",
    "\n",
    "hedged_return_cols = [col for col in df_hedged_returns.columns if col.endswith('_hedged_return_usd')]\n",
    "\n",
    "# shorting R with R = Sum(Xi / N), and Xi = hedged_return_i\n",
    "N = len(hedged_return_cols)\n",
    "df_hedged_returns[\"return\"] = - df_hedged_returns[hedged_return_cols].sum(axis=1) / N \n",
    "\n",
    "df_short = df_hedged_returns[['return']].copy()\n",
    "\n",
    "print(df_short.head(5))\n",
    "\n",
    "df_short.to_csv(\"data/q7/USD_vs_World.csv\")\n",
    "\n",
    "# TODO plot evolution of return and verify data on countries (not currency) is correct"
   ]
  },
  {
   "cell_type": "code",
   "execution_count": 22,
   "id": "65bd19bd",
   "metadata": {},
   "outputs": [
    {
     "name": "stdout",
     "output_type": "stream",
     "text": [
      "Short USD vs World Return:\n",
      " Mean: -0.008629130169479452, Std: 0.04588408160030436, Sharpe Ratio: -0.651471767871876\n"
     ]
    }
   ],
   "source": [
    "# Q7 b\n",
    "\n",
    "def return_stats(returns, periods_per_year=12, risk_free_rate=0):\n",
    "    mean = returns.mean()\n",
    "    std = returns.std()\n",
    "\n",
    "    sharpe = ((mean * periods_per_year) - risk_free_rate) / (std * np.sqrt(periods_per_year))\n",
    "\n",
    "    return mean, std, sharpe\n",
    "\n",
    "\n",
    "stats = return_stats(df_short['return'])\n",
    "print(f\"Short USD vs World Return:\\n Mean: {stats[0]}, Std: {stats[1]}, Sharpe Ratio: {stats[2]}\")\n",
    "\n",
    "# TODO compare, test if average return is statistically significantly different from 0"
   ]
  },
  {
   "cell_type": "code",
   "execution_count": 23,
   "id": "65b6143c",
   "metadata": {},
   "outputs": [],
   "source": [
    "# Q7 c\n",
    "\n",
    "# TODO (Q3 dependant) regress strategy on DIV from Q3, analyse results "
   ]
  }
 ],
 "metadata": {
  "kernelspec": {
   "display_name": "investments",
   "language": "python",
   "name": "python3"
  },
  "language_info": {
   "codemirror_mode": {
    "name": "ipython",
    "version": 3
   },
   "file_extension": ".py",
   "mimetype": "text/x-python",
   "name": "python",
   "nbconvert_exporter": "python",
   "pygments_lexer": "ipython3",
   "version": "3.9.21"
  }
 },
 "nbformat": 4,
 "nbformat_minor": 5
}
