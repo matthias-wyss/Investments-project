{
 "cells": [
  {
   "cell_type": "code",
   "execution_count": 30,
   "id": "4d880417",
   "metadata": {},
   "outputs": [],
   "source": [
    "import pandas as pd\n",
    "import matplotlib.pyplot as plt\n",
    "import numpy as np\n",
    "import matplotlib.dates as mdates\n",
    "from scipy import stats\n",
    "import statsmodels.api as sm"
   ]
  },
  {
   "cell_type": "code",
   "execution_count": 31,
   "id": "3e98378f",
   "metadata": {},
   "outputs": [],
   "source": [
    "df_excess_return = pd.read_csv(\"data/q3/excess_returns.csv\")\n",
    "df_excess_return.set_index('date', inplace=True)\n",
    "\n",
    "# France and Germany are the same\n",
    "df = df_excess_return.drop(columns = ['X_germany'])\n",
    "\n",
    "div_df = pd.read_csv(\"data/q3/div_return.csv\")\n",
    "div_df.set_index('date', inplace=True)\n",
    "div = div_df[\"DIV_return\"] "
   ]
  },
  {
   "cell_type": "code",
   "execution_count": 32,
   "id": "4ea5926f",
   "metadata": {},
   "outputs": [
    {
     "data": {
      "text/plain": [
       "3"
      ]
     },
     "execution_count": 32,
     "metadata": {},
     "output_type": "execute_result"
    }
   ],
   "source": [
    "# Q7 a\n",
    "\n",
    "N = 5 # Number of foreign currency traded\n",
    "\n",
    "# France and Germany are the same\n",
    "df = df_excess_return.drop(columns = ['X_germany'])\n",
    "\n",
    "dollar_ret = - (1/N) * df.sum(axis = 1)\n",
    "\n",
    "dollar_df = pd.DataFrame({\n",
    "    \"DOLLAR\": dollar_ret,\n",
    "}).dropna()\n",
    "\n",
    "#df_hedged_returns = pd.read_csv(\"data/q3/hedged_returns.csv\", parse_dates=['date'], index_col='date')\n",
    "#print(\"hedged returns \\n\", df_hedged_returns.head())\n",
    "#hedged_return_cols = [col for col in df_hedged_returns.columns if col.endswith('_hedged_return_usd')]\n",
    "# shorting R with R = Sum(Xi / N), and Xi = hedged_return_i\n",
    "#N = len(hedged_return_cols)\n",
    "#df_hedged_returns[\"return\"] = - df_hedged_returns[hedged_return_cols].sum(axis=1) / N \n",
    "#df_short = df_hedged_returns[['return']].copy()\n",
    "3#print(df_short.head(5))\n",
    "#df_short.to_csv(\"data/q7/USD_vs_World.csv\")\n",
    "# TODO plot evolution of return and verify data on countries (not currency) is correct"
   ]
  },
  {
   "cell_type": "code",
   "execution_count": 33,
   "id": "65bd19bd",
   "metadata": {},
   "outputs": [
    {
     "name": "stdout",
     "output_type": "stream",
     "text": [
      "=== DOLLAR Strategy Statistics ===\n",
      "Long USD vs World Return   : Annualized Return = 3.08%, Volatility = 7.74%, Sharpe = 0.40\n",
      "DOLLAR mean-return t-stat = 1.892, p-value = 0.060\n",
      "\n",
      "The strategy's mean return is not significantly different from zero.\n"
     ]
    }
   ],
   "source": [
    "# Q7 b\n",
    "def annualized_stats(returns, rf = None, period = 12, zero_cost = False):\n",
    "    \"\"\"\n",
    "    Given two pandas Series of monthly returns (decimal):\n",
    "      - returns: strategy returns\n",
    "      - rf:      risk-free returns\n",
    "    Returns (annualized_mean, annualized_vol, annualized_sharpe).\n",
    "    \"\"\"\n",
    "    mean_annual_return = period * returns.mean()\n",
    "    std_annual_return = np.sqrt(period) * returns.std()\n",
    "    if zero_cost:\n",
    "        return mean_annual_return, std_annual_return, (mean_annual_return/std_annual_return)\n",
    "    rf_annual = period * rf.mean()\n",
    "    excess_ret = mean_annual_return - rf_annual\n",
    "    sharpe_ratio = excess_ret / std_annual_return\n",
    "    return mean_annual_return, std_annual_return, sharpe_ratio\n",
    "\n",
    "mean_dollar, sigma_dollar, sharpe_dollar = annualized_stats(dollar_df[\"DOLLAR\"], zero_cost=True)\n",
    "\n",
    "# One-sample t-test: H0: mean(CARRY) = 0\n",
    "t_stat_mom, p_val_mom = stats.ttest_1samp(dollar_df[\"DOLLAR\"], popmean=0.0)\n",
    "\n",
    "print(\"=== DOLLAR Strategy Statistics ===\")\n",
    "print(f\"Long USD vs World Return   : Annualized Return = {mean_dollar:.2%}, \"\n",
    "      f\"Volatility = {sigma_dollar:.2%}, Sharpe = {sharpe_dollar:.2f}\")\n",
    "\n",
    "print(f\"DOLLAR mean-return t-stat = {t_stat_mom:.3f}, p-value = {p_val_mom:.3f}\\n\")\n",
    "\n",
    "alpha = 0.05  # typical significance level\n",
    "if p_val_mom < alpha:\n",
    "    print(\"The strategy's mean return is significantly different from zero.\")\n",
    "else:\n",
    "    print(\"The strategy's mean return is not significantly different from zero.\")\n",
    "\n",
    "dollar_df['DOLLAR'].to_csv('data/q7/USD_vs_World.csv')\n",
    "\n",
    "#def return_stats(returns, periods_per_year=12, risk_free_rate=0):\n",
    "#    mean = returns.mean()\n",
    "#    std = returns.std()\n",
    "\n",
    "#    sharpe = ((mean * periods_per_year) - risk_free_rate) / (std * np.sqrt(periods_per_year))\n",
    "\n",
    "#    return mean, std, sharpe\n",
    "\n",
    "\n",
    "#stats = return_stats(df_short['return'])\n",
    "#print(f\"Short USD vs World Return:\\n Mean: {stats[0]}, Std: {stats[1]}, Sharpe Ratio: {stats[2]}\")\n",
    "\n",
    "# TODO compare, test if average return is statistically significantly different from 0"
   ]
  },
  {
   "cell_type": "code",
   "execution_count": 35,
   "id": "65b6143c",
   "metadata": {},
   "outputs": [
    {
     "name": "stdout",
     "output_type": "stream",
     "text": [
      ">>> Regression of DOLLAR on DIV:\n",
      "                            OLS Regression Results                            \n",
      "==============================================================================\n",
      "Dep. Variable:                 DOLLAR   R-squared:                       0.000\n",
      "Model:                            OLS   Adj. R-squared:                 -0.005\n",
      "Method:                 Least Squares   F-statistic:                   0.03112\n",
      "Date:              mer., 11 juin 2025   Prob (F-statistic):              0.860\n",
      "Time:                        10:46:58   Log-Likelihood:                 515.63\n",
      "No. Observations:                 211   AIC:                            -1027.\n",
      "Df Residuals:                     209   BIC:                            -1021.\n",
      "Df Model:                           1                                         \n",
      "Covariance Type:            nonrobust                                         \n",
      "==============================================================================\n",
      "                 coef    std err          t      P>|t|      [0.025      0.975]\n",
      "------------------------------------------------------------------------------\n",
      "const          0.0044      0.001      2.975      0.003       0.001       0.007\n",
      "DIV           -0.0064      0.036     -0.176      0.860      -0.078       0.065\n",
      "==============================================================================\n",
      "Omnibus:                        1.047   Durbin-Watson:                   0.900\n",
      "Prob(Omnibus):                  0.592   Jarque-Bera (JB):                1.133\n",
      "Skew:                          -0.161   Prob(JB):                        0.568\n",
      "Kurtosis:                       2.840   Cond. No.                         24.8\n",
      "==============================================================================\n",
      "\n",
      "Notes:\n",
      "[1] Standard Errors assume that the covariance matrix of the errors is correctly specified.\n",
      "\n",
      "\n"
     ]
    }
   ],
   "source": [
    "# Q7 c\n",
    "# Regress CARRY on DIV (Newey-West errors, lag=1)\n",
    "reg_mom_div = pd.DataFrame({\n",
    "    \"DOLLAR\": dollar_ret.iloc[60:],\n",
    "    \"DIV\": div\n",
    "}).dropna()\n",
    "\n",
    "X_m = sm.add_constant(reg_mom_div[\"DIV\"])\n",
    "y_m = reg_mom_div[\"DOLLAR\"]\n",
    "dollar_on_div = sm.OLS(y_m, X_m).fit()\n",
    "\n",
    "print(\">>> Regression of DOLLAR on DIV:\")\n",
    "print(dollar_on_div.summary())\n",
    "print(\"\\n\")"
   ]
  }
 ],
 "metadata": {
  "kernelspec": {
   "display_name": "Python 3",
   "language": "python",
   "name": "python3"
  },
  "language_info": {
   "codemirror_mode": {
    "name": "ipython",
    "version": 3
   },
   "file_extension": ".py",
   "mimetype": "text/x-python",
   "name": "python",
   "nbconvert_exporter": "python",
   "pygments_lexer": "ipython3",
   "version": "3.12.8"
  }
 },
 "nbformat": 4,
 "nbformat_minor": 5
}
