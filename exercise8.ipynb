{
 "cells": [
  {
   "cell_type": "code",
   "execution_count": 1,
   "id": "919d0f78",
   "metadata": {},
   "outputs": [],
   "source": [
    "import wrds\n",
    "import pandas as pd\n",
    "import matplotlib.pyplot as plt\n",
    "import csv\n",
    "import glob\n",
    "import os\n",
    "import numpy as np\n",
    "import matplotlib.dates as mdates\n",
    "from numpy.linalg import inv"
   ]
  },
  {
   "cell_type": "markdown",
   "id": "50e86e68",
   "metadata": {},
   "source": [
    "We want to find a such that the annual volatility of $R_{FUND} = R_{T_{Bill}}(1-a) + aR_{DIV}$ is 15%. Hence, since T-bills are considered as risk-free and the DIV annual standard deviation is known from 3c: \n",
    "\n",
    "$\\sigma(R_{FUND}) = a\\sigma(R_{DIV}) = 15\\% \\implies a = \\frac{0,15}{\\sigma(R_{DIV})}.$  \n",
    "\n",
    "Note that we will not short the DIV portfolio as the average return is positive, so the only negative option of a is not taken into account."
   ]
  },
  {
   "cell_type": "code",
   "execution_count": 2,
   "id": "af04087b",
   "metadata": {},
   "outputs": [
    {
     "name": "stdout",
     "output_type": "stream",
     "text": [
      "The average value of a is : 1.072346248926775\n"
     ]
    }
   ],
   "source": [
    "# Q8.1\n",
    "div_return = pd.read_csv(\"data/q3/div_return.csv\").set_index(\"date\")\n",
    "div_std = np.sqrt(12)*div_return[\"DIV_return\"].std()\n",
    "a = 0.15/div_std\n",
    "\n",
    "print(f\"The average value of a is : {a}\")\n"
   ]
  },
  {
   "cell_type": "code",
   "execution_count": 3,
   "id": "2004216f",
   "metadata": {},
   "outputs": [],
   "source": [
    "# Q8.2 \n",
    "# import MOM, REV, CARRY, DOLLAR, and risk-free\n",
    "mom_ret_df = pd.read_csv(\"data/q4/mom_return.csv\")\n",
    "rev_ret_df = pd.read_csv(\"data/q5/rev_return.csv\")\n",
    "carry_ret_df = pd.read_csv(\"data/q6/carry_returns.csv\")\n",
    "dollar_ret_df = pd.read_csv(\"data/q7/USD_vs_World.csv\")\n",
    "risk_free = pd.read_csv('data/preprocess/tbills.csv').set_index(\"date\")\n",
    "\n",
    "# Merge them in 1 dataframe\n",
    "returns_df = mom_ret_df.merge(rev_ret_df, on=\"date\", how='inner').merge(carry_ret_df, on=\"date\", how='inner').merge(dollar_ret_df, on=\"date\",how='inner')\n",
    "returns_df = returns_df.set_index(\"date\")\n",
    "\n",
    "# Re-create a dataframe with the values of R_fund with DIV only\n",
    "to_align = div_return.index.intersection(risk_free.index)\n",
    "div_strategy = div_return.loc[to_align].mul(a).values + risk_free.loc[to_align].mul(1-a).values\n",
    "df_div_final = pd.DataFrame(div_strategy, columns=[\"DIV Only\"], index=to_align)\n"
   ]
  },
  {
   "cell_type": "code",
   "execution_count": 4,
   "id": "3c58b4d4",
   "metadata": {},
   "outputs": [],
   "source": [
    "# q8.3\n",
    "# Adapted risk-free parity calculation method\n",
    "def risk_parity_strat(returns: pd.DataFrame, rf_series: pd.Series):\n",
    "    # Volatiliy shifted by 1 to match returns on time t with std until t-1 \n",
    "    rolling_vol = returns.rolling(window=60).std().shift(1).dropna()\n",
    "    inv_vol = 1 / rolling_vol\n",
    "    weights = inv_vol.div(inv_vol.sum(axis=1), axis=0).dropna()\n",
    "    returns_aligned = returns.loc[weights.index]\n",
    "    return_b = (weights * returns_aligned).sum(axis=1).dropna()\n",
    "    mean_b = 12*return_b.mean()\n",
    "    std_b = np.sqrt(12)*return_b.std()\n",
    "    sharpe_b = (mean_b ) / std_b\n",
    "\n",
    "    print(\"RISK-PARITY FOR R_strat : \")\n",
    "    print(f\"Mean return : {mean_b}\")\n",
    "    print(f\"Standard deviation : {std_b}\")\n",
    "    print(f\"Sharpe ratio : {sharpe_b}\")\n",
    "\n",
    "    return return_b.to_frame().rename(columns={0:\"STRAT_return\"}), weights"
   ]
  },
  {
   "cell_type": "code",
   "execution_count": 5,
   "id": "dada65be",
   "metadata": {},
   "outputs": [
    {
     "name": "stdout",
     "output_type": "stream",
     "text": [
      "RISK-PARITY FOR R_strat : \n",
      "Mean return : 0.09984699150896015\n",
      "Standard deviation : 0.03315597003603447\n",
      "Sharpe ratio : 3.0114332773387344\n"
     ]
    }
   ],
   "source": [
    "#Q8.c\n",
    "# Calculate R_strat\n",
    "ret_strat, weights_strat = risk_parity_strat(returns_df, risk_free[\"rf\"])"
   ]
  },
  {
   "cell_type": "code",
   "execution_count": 6,
   "id": "7c861f05",
   "metadata": {},
   "outputs": [],
   "source": [
    "#Q8.c\n",
    "# Adapted mean-variance calculation  method \n",
    "def mean_variance(returns: pd.DataFrame):\n",
    "    rolling_mean = returns.rolling(window=60).mean().dropna()\n",
    "    rolling_cov = returns.rolling(window=60).cov().dropna()\n",
    "\n",
    "    mv_weights = []\n",
    "    dates_mv = rolling_mean.index\n",
    "    columns = returns.columns\n",
    "\n",
    "    for date in dates_mv:\n",
    "        mu = rolling_mean.loc[date]\n",
    "        Sigma = rolling_cov.loc[date]\n",
    "        w = inv(Sigma) @ mu\n",
    "        mv_weights.append(w)\n",
    "\n",
    "\n",
    "    mv_weights_df = pd.DataFrame(mv_weights, index=dates_mv, columns=columns)\n",
    "    returns_aligned_mv = returns.loc[mv_weights_df.index]\n",
    "    weighted_returns = mv_weights_df * returns_aligned_mv\n",
    "    return_c = (weighted_returns).sum(axis=1)\n",
    "    mean_c = 12*return_c.mean()\n",
    "    std_c = np.sqrt(12)*return_c.std()\n",
    "    sharpe_c = mean_c / std_c\n",
    "\n",
    "    print(\"MEAN-VARIANCE BEFORE NORMALIZING : \")\n",
    "    print(f\"Mean return : {mean_c}\")\n",
    "    print(f\"Standard deviation : {std_c}\")\n",
    "    print(f\"Sharpe ratio : {sharpe_c} \\n\")\n",
    "\n",
    "    new_weights = mv_weights_df.multiply(0.15/std_c)\n",
    "    new_returns = new_weights*returns_aligned_mv\n",
    "    return_c = (new_returns).sum(axis=1)\n",
    "    mean_c = 12*return_c.mean()\n",
    "    std_c = np.sqrt(12)*return_c.std()\n",
    "    sharpe_c = mean_c / std_c\n",
    "\n",
    "    print(\"MEAN-VARIANCE AFTER NORMALIZING : \")\n",
    "    print(f\"Mean return : {mean_c}\")\n",
    "    print(f\"Standard deviation : {std_c}\")\n",
    "    print(f\"Sharpe ratio : {sharpe_c} \\n\")\n",
    "\n",
    "    return return_c, new_weights\n"
   ]
  },
  {
   "cell_type": "code",
   "execution_count": 7,
   "id": "c839d4f6",
   "metadata": {},
   "outputs": [
    {
     "name": "stdout",
     "output_type": "stream",
     "text": [
      "MEAN-VARIANCE BEFORE NORMALIZING : \n",
      "Mean return : 18.616817215003\n",
      "Standard deviation : 4.063315295339994\n",
      "Sharpe ratio : 4.581681671701348 \n",
      "\n",
      "MEAN-VARIANCE AFTER NORMALIZING : \n",
      "Mean return : 0.6872522507552024\n",
      "Standard deviation : 0.15\n",
      "Sharpe ratio : 4.581681671701349 \n",
      "\n",
      "The average value of b is : 0.4402627510275698\n",
      "The average value of c is : 4.851481901833305\n"
     ]
    }
   ],
   "source": [
    "# Q8.c\n",
    "# Calculate the weights b and c\n",
    "\n",
    "# Substract the monthly T-bill return to the DIV strategy return to get excess return\n",
    "rf_df = risk_free\n",
    "div_rf = div_return\n",
    "common_index = div_rf.index.intersection(rf_df.index)\n",
    "div_common = div_rf.loc[common_index]\n",
    "rf_common = rf_df.loc[common_index]\n",
    "result = pd.DataFrame(\n",
    "    div_common.values - rf_common.values,\n",
    "    index=common_index,\n",
    "    columns=div_rf.columns\n",
    ")\n",
    "\n",
    "# Apply mean-variance and get weights b and c\n",
    "fund_ret = pd.merge(result, ret_strat, left_index=True, right_index=True)\n",
    "ret_fund, weights_ret = mean_variance(fund_ret)\n",
    "\n",
    "print(f\"The average value of b is : {weights_ret[\"DIV_return\"].mean()}\")\n",
    "print(f\"The average value of c is : {weights_ret[\"STRAT_return\"].mean()}\")\n",
    "\n",
    "\n",
    "\n"
   ]
  },
  {
   "cell_type": "code",
   "execution_count": 8,
   "id": "757231b3",
   "metadata": {},
   "outputs": [
    {
     "data": {
      "application/vnd.microsoft.datawrangler.viewer.v0+json": {
       "columns": [
        {
         "name": "date",
         "rawType": "object",
         "type": "string"
        },
        {
         "name": "MOM",
         "rawType": "float64",
         "type": "float"
        },
        {
         "name": "REV",
         "rawType": "float64",
         "type": "float"
        },
        {
         "name": "CARRY",
         "rawType": "float64",
         "type": "float"
        },
        {
         "name": "DOLLAR",
         "rawType": "float64",
         "type": "float"
        },
        {
         "name": "TBILL",
         "rawType": "float64",
         "type": "float"
        },
        {
         "name": "DIV",
         "rawType": "float64",
         "type": "float"
        }
       ],
       "ref": "3da297ac-f2f0-4cb3-9b96-b4f39ccb54a0",
       "rows": [
        [
         "2017-05-01",
         "0.6202120489743919",
         "0.7503600794820482",
         "0.8638885474417956",
         "1.0359737233544237",
         "0.6912891035374744",
         "0.30871089646252564"
        ],
        [
         "2017-06-01",
         "0.6053719993886504",
         "0.7307738843491214",
         "0.84555303189014",
         "1.0259888378481359",
         "0.5552204818674347",
         "0.44477951813256533"
        ],
        [
         "2017-07-01",
         "0.5839814854576472",
         "0.7088248998347255",
         "0.8353024123474666",
         "1.0088273871805868",
         "0.5625866927799377",
         "0.4374133072200623"
        ],
        [
         "2017-08-01",
         "0.5920266390006249",
         "0.7139091935304425",
         "0.8864469950064804",
         "1.0199804436187685",
         "0.5667641416965947",
         "0.43323585830340533"
        ],
        [
         "2017-09-01",
         "0.657932991464653",
         "0.7920968888336513",
         "0.9899985693482585",
         "1.1443683172232177",
         "0.5771732976052395",
         "0.42282670239476045"
        ],
        [
         "2017-10-01",
         "0.6591710507854576",
         "0.7927449541959161",
         "0.9999534604413888",
         "1.186943179491396",
         "0.5792269893588333",
         "0.42077301064116673"
        ],
        [
         "2017-11-01",
         "0.6552244769832865",
         "0.7818646670687988",
         "1.0094184177421286",
         "1.165025364780498",
         "0.5654897432328589",
         "0.434510256767141"
        ],
        [
         "2017-12-01",
         "0.6831447397390165",
         "0.8171118756237113",
         "1.0588146260116242",
         "1.196880645025957",
         "0.5806499471908871",
         "0.41935005280911286"
        ],
        [
         "2018-01-01",
         "0.6920973638001113",
         "0.8305527969207599",
         "1.0747783262894752",
         "1.2239853195918067",
         "0.5832741291889563",
         "0.4167258708110438"
        ],
        [
         "2018-02-01",
         "0.6871599808681099",
         "0.8168838467713059",
         "1.0565806158827784",
         "1.1934356706190912",
         "0.6028882647608744",
         "0.3971117352391256"
        ],
        [
         "2018-03-01",
         "0.6952602350958965",
         "0.8350725224057542",
         "1.0682640689363974",
         "1.2131205301614094",
         "0.6200807986407244",
         "0.37991920135927565"
        ],
        [
         "2018-04-01",
         "0.6843921323104196",
         "0.8194923240586954",
         "1.0794277328037603",
         "1.1917052443938352",
         "0.6213518470874327",
         "0.37864815291256726"
        ],
        [
         "2018-05-01",
         "0.6673118128583234",
         "0.8014571025698878",
         "1.010553285253836",
         "1.101955792711364",
         "0.6523379557614786",
         "0.3476620442385215"
        ],
        [
         "2018-06-01",
         "0.8041619494401832",
         "0.9480057126545424",
         "1.2080286247166137",
         "1.2148648268413247",
         "0.6570350806911965",
         "0.34296491930880346"
        ],
        [
         "2018-07-01",
         "0.7685705502698305",
         "0.9113070964338428",
         "1.2852511198708625",
         "1.1767792701195332",
         "0.6081377805308115",
         "0.3918622194691885"
        ],
        [
         "2018-08-01",
         "0.9426966837796531",
         "1.1177665153221468",
         "1.5919400189190769",
         "1.425752126340416",
         "0.7193170568250862",
         "0.28068294317491377"
        ],
        [
         "2018-09-01",
         "0.9345097115635904",
         "1.0750795775028275",
         "1.5693363242279623",
         "1.39373129816425",
         "0.6863082951341793",
         "0.31369170486582065"
        ],
        [
         "2018-10-01",
         "0.895651122313326",
         "1.0410304323729638",
         "1.5198661325445433",
         "1.3508264071085039",
         "0.6808690973365263",
         "0.31913090266347366"
        ],
        [
         "2018-11-01",
         "0.9176667538204218",
         "1.0393396139912368",
         "1.5024274010486027",
         "1.3628355025047223",
         "0.6893812636544318",
         "0.31061873634556825"
        ],
        [
         "2018-12-01",
         "0.9361800353214987",
         "1.0552473199474115",
         "1.5073185102794446",
         "1.381007817846125",
         "0.6883201436083932",
         "0.31167985639160684"
        ],
        [
         "2019-01-01",
         "0.9497867394765236",
         "1.0572886090112898",
         "1.5310337175641755",
         "1.3739093221411889",
         "0.7139065867210613",
         "0.28609341327893867"
        ],
        [
         "2019-02-01",
         "1.0314683801692315",
         "1.142754125431415",
         "1.653550672836493",
         "1.4857509035230492",
         "0.6706019560358976",
         "0.32939804396410244"
        ],
        [
         "2019-03-01",
         "1.116912013787454",
         "1.224088793784966",
         "1.7694319861517678",
         "1.6194752203482248",
         "0.748975141332334",
         "0.25102485866766594"
        ],
        [
         "2019-04-01",
         "1.1033034140728541",
         "1.1962977199017997",
         "1.723954986010301",
         "1.5949891161313914",
         "0.7398279521287983",
         "0.2601720478712018"
        ],
        [
         "2019-05-01",
         "1.096972546065692",
         "1.1903344016507351",
         "1.7437386896407796",
         "1.5952872822709803",
         "0.7240683991677025",
         "0.2759316008322975"
        ],
        [
         "2019-06-01",
         "1.0996352803473102",
         "1.206321341784558",
         "1.7524031252763692",
         "1.6101937143297778",
         "0.7540933463340455",
         "0.24590665366595452"
        ],
        [
         "2019-07-01",
         "1.1637462390930575",
         "1.2620814373898397",
         "1.8265740471914134",
         "1.715696297576749",
         "0.7390546154972217",
         "0.2609453845027782"
        ],
        [
         "2019-08-01",
         "1.1810270190981538",
         "1.3048884157613032",
         "1.859819221306622",
         "1.742065091628244",
         "0.6893779695474795",
         "0.3106220304525204"
        ],
        [
         "2019-09-01",
         "1.2251601157744156",
         "1.3019890797812794",
         "1.7635452278478705",
         "1.7084832598828135",
         "0.6809138861647397",
         "0.31908611383526025"
        ],
        [
         "2019-10-01",
         "1.214261325246503",
         "1.2986075152215888",
         "1.7383064401692299",
         "1.7150444681922095",
         "0.6599154867203906",
         "0.3400845132796094"
        ],
        [
         "2019-11-01",
         "1.2196344015534448",
         "1.2892541427624378",
         "1.7063610801665448",
         "1.6802453446896277",
         "0.6337486373614725",
         "0.3662513626385276"
        ],
        [
         "2019-12-01",
         "1.2371925454316404",
         "1.3002972496095822",
         "1.729390587654942",
         "1.7122365173497094",
         "0.6344444463119551",
         "0.36555555368804493"
        ],
        [
         "2020-01-01",
         "1.2466624103188662",
         "1.306608167938335",
         "1.740913614778534",
         "1.696503768841059",
         "0.5775786665441978",
         "0.42242133345580224"
        ],
        [
         "2020-02-01",
         "1.251237243596983",
         "1.3152132282891076",
         "1.7895724626474425",
         "1.705886392201929",
         "0.5780802364307325",
         "0.4219197635692675"
        ],
        [
         "2020-03-01",
         "1.2436493986167554",
         "1.3314598713188341",
         "1.5563596370462405",
         "1.4706746742203975",
         "0.7455984261059742",
         "0.25440157389402585"
        ],
        [
         "2020-04-01",
         "1.3473412112872603",
         "1.4421303882977135",
         "1.4650976657728934",
         "1.5871739287657434",
         "0.8974714032280764",
         "0.10252859677192365"
        ],
        [
         "2020-05-01",
         "1.45499986750869",
         "1.4391752445468258",
         "1.6427218519153024",
         "1.8201456424944857",
         "0.8646820746721415",
         "0.13531792532785844"
        ],
        [
         "2020-06-01",
         "1.3598597933192509",
         "1.3302280493038545",
         "1.6145580184462194",
         "1.8752037906411705",
         "0.8250316198262827",
         "0.17496838017371732"
        ],
        [
         "2020-07-01",
         "1.2826986819933826",
         "1.2402017711229876",
         "1.518317552489741",
         "1.6815158217945176",
         "0.7598943539469891",
         "0.24010564605301088"
        ],
        [
         "2020-08-01",
         "1.2689025701269203",
         "1.231552293765338",
         "1.489640746372309",
         "1.6217988662697091",
         "0.7802185678225763",
         "0.2197814321774237"
        ],
        [
         "2020-09-01",
         "1.3986869285431338",
         "1.3314114028845196",
         "1.6400292122017344",
         "1.7416430642624574",
         "0.6490190570264718",
         "0.3509809429735282"
        ],
        [
         "2020-10-01",
         "1.353489793579874",
         "1.2722834665750746",
         "1.6049317948244661",
         "1.6836715067436734",
         "0.6230407307441649",
         "0.3769592692558351"
        ],
        [
         "2020-11-01",
         "1.388834088976964",
         "1.2910468330124356",
         "1.6136000613580805",
         "1.7152305690101155",
         "0.6388368222885494",
         "0.3611631777114506"
        ],
        [
         "2020-12-01",
         "1.2081204546705653",
         "1.132080002202906",
         "1.5627642208614978",
         "1.5690561012122453",
         "0.4982824916422913",
         "0.5017175083577087"
        ],
        [
         "2021-01-01",
         "1.2649405207567657",
         "1.192251666567018",
         "1.640096945544214",
         "1.6270982372193574",
         "0.4548034148413935",
         "0.5451965851586065"
        ],
        [
         "2021-02-01",
         "1.3553471663086003",
         "1.2425985819491683",
         "1.7101036598296118",
         "1.6680320709381284",
         "0.36501802346235357",
         "0.6349819765376464"
        ],
        [
         "2021-03-01",
         "1.345104906959762",
         "1.2308872198089678",
         "1.6879184172885053",
         "1.686360379086756",
         "0.33681435943212357",
         "0.6631856405678764"
        ],
        [
         "2021-04-01",
         "1.3444163222250765",
         "1.2358359496655817",
         "1.6966001091944398",
         "1.6817047065078417",
         "0.31075115850122903",
         "0.689248841498771"
        ],
        [
         "2021-05-01",
         "1.3274696669079387",
         "1.190664364160759",
         "1.645299699889696",
         "1.6850933772714174",
         "0.30425677205036383",
         "0.6957432279496362"
        ],
        [
         "2021-06-01",
         "1.343750756590574",
         "1.1985459980968605",
         "1.6597948931392055",
         "1.6816848108635019",
         "0.3042460506558802",
         "0.6957539493441198"
        ]
       ],
       "shape": {
        "columns": 6,
        "rows": 92
       }
      },
      "text/html": [
       "<div>\n",
       "<style scoped>\n",
       "    .dataframe tbody tr th:only-of-type {\n",
       "        vertical-align: middle;\n",
       "    }\n",
       "\n",
       "    .dataframe tbody tr th {\n",
       "        vertical-align: top;\n",
       "    }\n",
       "\n",
       "    .dataframe thead th {\n",
       "        text-align: right;\n",
       "    }\n",
       "</style>\n",
       "<table border=\"1\" class=\"dataframe\">\n",
       "  <thead>\n",
       "    <tr style=\"text-align: right;\">\n",
       "      <th></th>\n",
       "      <th>MOM</th>\n",
       "      <th>REV</th>\n",
       "      <th>CARRY</th>\n",
       "      <th>DOLLAR</th>\n",
       "      <th>TBILL</th>\n",
       "      <th>DIV</th>\n",
       "    </tr>\n",
       "    <tr>\n",
       "      <th>date</th>\n",
       "      <th></th>\n",
       "      <th></th>\n",
       "      <th></th>\n",
       "      <th></th>\n",
       "      <th></th>\n",
       "      <th></th>\n",
       "    </tr>\n",
       "  </thead>\n",
       "  <tbody>\n",
       "    <tr>\n",
       "      <th>2017-05-01</th>\n",
       "      <td>0.620212</td>\n",
       "      <td>0.750360</td>\n",
       "      <td>0.863889</td>\n",
       "      <td>1.035974</td>\n",
       "      <td>0.691289</td>\n",
       "      <td>0.308711</td>\n",
       "    </tr>\n",
       "    <tr>\n",
       "      <th>2017-06-01</th>\n",
       "      <td>0.605372</td>\n",
       "      <td>0.730774</td>\n",
       "      <td>0.845553</td>\n",
       "      <td>1.025989</td>\n",
       "      <td>0.555220</td>\n",
       "      <td>0.444780</td>\n",
       "    </tr>\n",
       "    <tr>\n",
       "      <th>2017-07-01</th>\n",
       "      <td>0.583981</td>\n",
       "      <td>0.708825</td>\n",
       "      <td>0.835302</td>\n",
       "      <td>1.008827</td>\n",
       "      <td>0.562587</td>\n",
       "      <td>0.437413</td>\n",
       "    </tr>\n",
       "    <tr>\n",
       "      <th>2017-08-01</th>\n",
       "      <td>0.592027</td>\n",
       "      <td>0.713909</td>\n",
       "      <td>0.886447</td>\n",
       "      <td>1.019980</td>\n",
       "      <td>0.566764</td>\n",
       "      <td>0.433236</td>\n",
       "    </tr>\n",
       "    <tr>\n",
       "      <th>2017-09-01</th>\n",
       "      <td>0.657933</td>\n",
       "      <td>0.792097</td>\n",
       "      <td>0.989999</td>\n",
       "      <td>1.144368</td>\n",
       "      <td>0.577173</td>\n",
       "      <td>0.422827</td>\n",
       "    </tr>\n",
       "    <tr>\n",
       "      <th>...</th>\n",
       "      <td>...</td>\n",
       "      <td>...</td>\n",
       "      <td>...</td>\n",
       "      <td>...</td>\n",
       "      <td>...</td>\n",
       "      <td>...</td>\n",
       "    </tr>\n",
       "    <tr>\n",
       "      <th>2024-08-01</th>\n",
       "      <td>0.697307</td>\n",
       "      <td>0.806596</td>\n",
       "      <td>0.755218</td>\n",
       "      <td>1.004687</td>\n",
       "      <td>0.509113</td>\n",
       "      <td>0.490887</td>\n",
       "    </tr>\n",
       "    <tr>\n",
       "      <th>2024-09-01</th>\n",
       "      <td>0.691671</td>\n",
       "      <td>0.802918</td>\n",
       "      <td>0.743233</td>\n",
       "      <td>0.988801</td>\n",
       "      <td>0.503217</td>\n",
       "      <td>0.496783</td>\n",
       "    </tr>\n",
       "    <tr>\n",
       "      <th>2024-10-01</th>\n",
       "      <td>0.684754</td>\n",
       "      <td>0.798422</td>\n",
       "      <td>0.731273</td>\n",
       "      <td>0.972847</td>\n",
       "      <td>0.508768</td>\n",
       "      <td>0.491232</td>\n",
       "    </tr>\n",
       "    <tr>\n",
       "      <th>2024-11-01</th>\n",
       "      <td>0.700603</td>\n",
       "      <td>0.816894</td>\n",
       "      <td>0.731447</td>\n",
       "      <td>0.977495</td>\n",
       "      <td>0.513287</td>\n",
       "      <td>0.486713</td>\n",
       "    </tr>\n",
       "    <tr>\n",
       "      <th>2024-12-01</th>\n",
       "      <td>0.701843</td>\n",
       "      <td>0.826917</td>\n",
       "      <td>0.739919</td>\n",
       "      <td>0.971090</td>\n",
       "      <td>0.522036</td>\n",
       "      <td>0.477964</td>\n",
       "    </tr>\n",
       "  </tbody>\n",
       "</table>\n",
       "<p>92 rows × 6 columns</p>\n",
       "</div>"
      ],
      "text/plain": [
       "                 MOM       REV     CARRY    DOLLAR     TBILL       DIV\n",
       "date                                                                  \n",
       "2017-05-01  0.620212  0.750360  0.863889  1.035974  0.691289  0.308711\n",
       "2017-06-01  0.605372  0.730774  0.845553  1.025989  0.555220  0.444780\n",
       "2017-07-01  0.583981  0.708825  0.835302  1.008827  0.562587  0.437413\n",
       "2017-08-01  0.592027  0.713909  0.886447  1.019980  0.566764  0.433236\n",
       "2017-09-01  0.657933  0.792097  0.989999  1.144368  0.577173  0.422827\n",
       "...              ...       ...       ...       ...       ...       ...\n",
       "2024-08-01  0.697307  0.806596  0.755218  1.004687  0.509113  0.490887\n",
       "2024-09-01  0.691671  0.802918  0.743233  0.988801  0.503217  0.496783\n",
       "2024-10-01  0.684754  0.798422  0.731273  0.972847  0.508768  0.491232\n",
       "2024-11-01  0.700603  0.816894  0.731447  0.977495  0.513287  0.486713\n",
       "2024-12-01  0.701843  0.826917  0.739919  0.971090  0.522036  0.477964\n",
       "\n",
       "[92 rows x 6 columns]"
      ]
     },
     "execution_count": 8,
     "metadata": {},
     "output_type": "execute_result"
    }
   ],
   "source": [
    "# Q8.c \n",
    "# Calculate the weights of each fund by multiplying c by each weight in STRAT\n",
    "# T-Bill weight = 1-b\n",
    "\n",
    "final_weights = weights_strat.mul(weights_ret[\"STRAT_return\"], axis=0).dropna()\n",
    "final_weights[\"TBILL\"] = 1-weights_ret[\"DIV_return\"]\n",
    "final_weights[\"DIV\"] = weights_ret[\"DIV_return\"]\n",
    "\n",
    "final_weights\n"
   ]
  },
  {
   "cell_type": "code",
   "execution_count": 9,
   "id": "41cac040",
   "metadata": {},
   "outputs": [
    {
     "data": {
      "image/png": "[encoded data removed]",
      "text/plain": [
       "<Figure size 1200x600 with 1 Axes>"
      ]
     },
     "metadata": {},
     "output_type": "display_data"
    }
   ],
   "source": [
    "#Q8.d \n",
    "# Plot the cumulative performance of both DIV-only and DIV+STRAT fund strategies\n",
    "\n",
    "df_strat, df_benchmark = ret_fund.align(df_div_final, join='inner')\n",
    "# Add back the risk-free rate to the second FUND strategy \n",
    "df_final_strat =  risk_free.loc[df_strat.index][\"rf\"] + df_strat\n",
    "cum_strat = (1 + df_final_strat).cumprod()\n",
    "cum_benchmark = (1 + df_benchmark).cumprod()\n",
    "plt.figure(figsize=(12, 6))\n",
    "cum_strat.plot(ax=plt.gca(), label='DIV + STRAT', linewidth=2)\n",
    "cum_benchmark.plot(ax=plt.gca(), label='DIV Only', linewidth=2)\n",
    "\n",
    "plt.title('Cumulative Performance of $1 Invested')\n",
    "plt.xlabel('Date')\n",
    "plt.ylabel('Cumulative Value')\n",
    "plt.grid(True)\n",
    "plt.legend()\n",
    "plt.tight_layout()\n",
    "plt.show()"
   ]
  },
  {
   "cell_type": "code",
   "execution_count": 10,
   "id": "bc75ece8",
   "metadata": {},
   "outputs": [
    {
     "name": "stdout",
     "output_type": "stream",
     "text": [
      "DIV Only : \n",
      "Mean return : 0.1141347626212183\n",
      "Standard deviation : 0.14995185614597586\n",
      "Sharpe ratio : 0.6612871341380505\n"
     ]
    }
   ],
   "source": [
    "#Q8.d \n",
    "# Calculate the mean, std and Sharpe ratio of the DIV only strategy\n",
    "mean = 12*df_div_final[\"DIV Only\"].mean()\n",
    "std = np.sqrt(12)*df_div_final[\"DIV Only\"].std()\n",
    "sharpe = (mean-12*risk_free[\"rf\"].mean())/(std)\n",
    "\n",
    "print(\"DIV Only : \")\n",
    "print(f\"Mean return : {mean}\")\n",
    "print(f\"Standard deviation : {std}\")\n",
    "print(f\"Sharpe ratio : {sharpe}\")"
   ]
  },
  {
   "cell_type": "code",
   "execution_count": 11,
   "id": "5db37e0d",
   "metadata": {},
   "outputs": [
    {
     "name": "stdout",
     "output_type": "stream",
     "text": [
      "DIV + STRAT : \n",
      "Mean = 0.7082522507552023\n",
      "Standard deviation : 0.15325105179864762\n",
      "Sharpe Ratio : 4.523810526627364\n"
     ]
    }
   ],
   "source": [
    "# Q8.d\n",
    "# Calculate the mean, std and Sharpe ratio of the DIV+STRAT strategy\n",
    "mean = 12*df_final_strat.mean()\n",
    "std = np.sqrt(12)*df_final_strat.std()\n",
    "sharpe = (mean-12*risk_free[\"rf\"].mean())/(std)\n",
    "\n",
    "print(\"DIV + STRAT : \")\n",
    "print(f\"Mean = {mean}\")\n",
    "print(f\"Standard deviation : {std}\")\n",
    "print(f\"Sharpe Ratio : {sharpe}\")"
   ]
  }
 ],
 "metadata": {
  "kernelspec": {
   "display_name": "Python 3",
   "language": "python",
   "name": "python3"
  },
  "language_info": {
   "codemirror_mode": {
    "name": "ipython",
    "version": 3
   },
   "file_extension": ".py",
   "mimetype": "text/x-python",
   "name": "python",
   "nbconvert_exporter": "python",
   "pygments_lexer": "ipython3",
   "version": "3.12.8"
  }
 },
 "nbformat": 4,
 "nbformat_minor": 5
}
