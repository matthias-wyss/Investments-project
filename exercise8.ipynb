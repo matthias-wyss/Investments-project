{
 "cells": [
  {
   "cell_type": "code",
   "execution_count": 182,
   "id": "919d0f78",
   "metadata": {},
   "outputs": [],
   "source": [
    "import wrds\n",
    "import pandas as pd\n",
    "import matplotlib.pyplot as plt\n",
    "import csv\n",
    "import glob\n",
    "import os\n",
    "import numpy as np\n",
    "import matplotlib.dates as mdates\n",
    "from numpy.linalg import inv"
   ]
  },
  {
   "cell_type": "markdown",
   "id": "50e86e68",
   "metadata": {},
   "source": [
    "We want to find a such that the annual volatility of $R_{FUND} = R_{T_{Bill}}(1-a) + aR_{DIV}$ is 15%. Hence, since T-bills are considered as risk-free and the DIV annual standard deviation is known from 3c: \n",
    "\n",
    "$\\sigma(R_{FUND}) = a\\sigma(R_{DIV}) = 15\\% \\implies a = \\frac{0,15}{\\sigma(R_{DIV})}.$  \n",
    "\n",
    "Note that we will not short the DIV portfolio as the average return is positive, so the only negative option of a is not taken into account."
   ]
  },
  {
   "cell_type": "code",
   "execution_count": 183,
   "id": "af04087b",
   "metadata": {},
   "outputs": [
    {
     "name": "stdout",
     "output_type": "stream",
     "text": [
      "The average value of a is : 1.072346248926775\n"
     ]
    }
   ],
   "source": [
    "# Q8.1\n",
    "div_return = pd.read_csv(\"data/q3/div_return.csv\").set_index(\"date\")\n",
    "div_std = np.sqrt(12)*div_return[\"DIV_return\"].std()\n",
    "a = 0.15/div_std\n",
    "\n",
    "print(f\"The average value of a is : {a}\")\n"
   ]
  },
  {
   "cell_type": "code",
   "execution_count": 184,
   "id": "2004216f",
   "metadata": {},
   "outputs": [],
   "source": [
    "# Q8.2 \n",
    "# import MOM, REV, CARRY, DOLLAR, and risk-free\n",
    "mom_ret_df = pd.read_csv(\"data/q4/mom_return.csv\")\n",
    "rev_ret_df = pd.read_csv(\"data/q5/rev_return.csv\")\n",
    "carry_ret_df = pd.read_csv(\"data/q6/carry_returns.csv\")\n",
    "dollar_ret_df = pd.read_csv(\"data/q7/USD_vs_World.csv\")\n",
    "risk_free = pd.read_csv('data/preprocess/tbills.csv').set_index(\"date\")\n",
    "\n",
    "# Merge them in 1 dataframe\n",
    "returns_df = mom_ret_df.merge(rev_ret_df, on=\"date\", how='inner').merge(carry_ret_df, on=\"date\", how='inner').merge(dollar_ret_df, on=\"date\",how='inner')\n",
    "returns_df = returns_df.set_index(\"date\")\n",
    "\n",
    "# Re-create a dataframe with the values of R_fund with DIV only\n",
    "to_align = div_return.index.intersection(risk_free.index)\n",
    "div_strategy = div_return.loc[to_align].mul(a).values + risk_free.loc[to_align].mul(1-a).values\n",
    "df_div_final = pd.DataFrame(div_strategy, columns=[\"DIV Only\"], index=to_align)\n"
   ]
  },
  {
   "cell_type": "code",
   "execution_count": 185,
   "id": "3c58b4d4",
   "metadata": {},
   "outputs": [],
   "source": [
    "# q8.3\n",
    "# Adapted risk-free parity calculation method\n",
    "def risk_parity_strat(returns: pd.DataFrame, rf_series: pd.Series):\n",
    "    # Volatiliy shifted by 1 to match returns on time t with std until t-1 \n",
    "    rolling_vol = returns.rolling(window=60).std().shift(1).dropna()\n",
    "    inv_vol = 1 / rolling_vol\n",
    "    weights = inv_vol.div(inv_vol.sum(axis=1), axis=0).dropna()\n",
    "    returns_aligned = returns.loc[weights.index]\n",
    "    return_b = (weights * returns_aligned).sum(axis=1).dropna()\n",
    "    mean_b = 12*return_b.mean()\n",
    "    std_b = np.sqrt(12)*return_b.std()\n",
    "    sharpe_b = (mean_b ) / std_b\n",
    "\n",
    "    print(\"RISK-PARITY FOR R_strat : \")\n",
    "    print(f\"Mean return : {mean_b}\")\n",
    "    print(f\"Standard deviation : {std_b}\")\n",
    "    print(f\"Sharpe ratio : {sharpe_b}\")\n",
    "\n",
    "    return return_b.to_frame().rename(columns={0:\"STRAT_return\"}), weights"
   ]
  },
  {
   "cell_type": "code",
   "execution_count": 186,
   "id": "dada65be",
   "metadata": {},
   "outputs": [
    {
     "name": "stdout",
     "output_type": "stream",
     "text": [
      "RISK-PARITY FOR R_strat : \n",
      "Mean return : 0.18170332608873474\n",
      "Standard deviation : 0.04700321383261913\n",
      "Sharpe ratio : 3.8657638759721764\n"
     ]
    }
   ],
   "source": [
    "#Q8.c\n",
    "# Calculate R_strat\n",
    "ret_strat, weights_strat = risk_parity_strat(returns_df, risk_free[\"rf\"])"
   ]
  },
  {
   "cell_type": "code",
   "execution_count": 187,
   "id": "7c861f05",
   "metadata": {},
   "outputs": [],
   "source": [
    "#Q8.c\n",
    "# Adapted mean-variance calculation  method \n",
    "def mean_variance(returns: pd.DataFrame):\n",
    "    rolling_mean = returns.rolling(window=60).mean().dropna()\n",
    "    rolling_cov = returns.rolling(window=60).cov().dropna()\n",
    "\n",
    "    mv_weights = []\n",
    "    dates_mv = rolling_mean.index\n",
    "    columns = returns.columns\n",
    "\n",
    "    for date in dates_mv:\n",
    "        mu = rolling_mean.loc[date]\n",
    "        Sigma = rolling_cov.loc[date]\n",
    "        w = inv(Sigma) @ mu\n",
    "        mv_weights.append(w)\n",
    "\n",
    "\n",
    "    mv_weights_df = pd.DataFrame(mv_weights, index=dates_mv, columns=columns)\n",
    "    returns_aligned_mv = returns.loc[mv_weights_df.index]\n",
    "    weighted_returns = mv_weights_df * returns_aligned_mv\n",
    "    return_c = (weighted_returns).sum(axis=1)\n",
    "    mean_c = 12*return_c.mean()\n",
    "    std_c = np.sqrt(12)*return_c.std()\n",
    "    sharpe_c = mean_c / std_c\n",
    "\n",
    "    print(\"MEAN-VARIANCE BEFORE NORMALIZING : \")\n",
    "    print(f\"Mean return : {mean_c}\")\n",
    "    print(f\"Standard deviation : {std_c}\")\n",
    "    print(f\"Sharpe ratio : {sharpe_c} \\n\")\n",
    "\n",
    "    new_weights = mv_weights_df.multiply(0.15/std_c)\n",
    "    new_returns = new_weights*returns_aligned_mv\n",
    "    return_c = (new_returns).sum(axis=1)\n",
    "    mean_c = 12*return_c.mean()\n",
    "    std_c = np.sqrt(12)*return_c.std()\n",
    "    sharpe_c = mean_c / std_c\n",
    "\n",
    "    print(\"MEAN-VARIANCE AFTER NORMALIZING : \")\n",
    "    print(f\"Mean return : {mean_c}\")\n",
    "    print(f\"Standard deviation : {std_c}\")\n",
    "    print(f\"Sharpe ratio : {sharpe_c} \\n\")\n",
    "\n",
    "    return return_c, new_weights\n"
   ]
  },
  {
   "cell_type": "code",
   "execution_count": 188,
   "id": "c839d4f6",
   "metadata": {},
   "outputs": [
    {
     "name": "stdout",
     "output_type": "stream",
     "text": [
      "MEAN-VARIANCE BEFORE NORMALIZING : \n",
      "Mean return : 22.061329216771007\n",
      "Standard deviation : 4.373458404761102\n",
      "Sharpe ratio : 5.04436699175057 \n",
      "\n",
      "MEAN-VARIANCE AFTER NORMALIZING : \n",
      "Mean return : 0.7566550487625853\n",
      "Standard deviation : 0.15\n",
      "Sharpe ratio : 5.044366991750569 \n",
      "\n",
      "The average value of b is : 0.3717175514274233\n",
      "The average value of c is : 3.2359368476543358\n"
     ]
    }
   ],
   "source": [
    "# Q8.c\n",
    "# Calculate the weights b and c\n",
    "\n",
    "# Substract the monthly T-bill return to the DIV strategy return to get excess return\n",
    "rf_df = risk_free\n",
    "div_rf = div_return\n",
    "common_index = div_rf.index.intersection(rf_df.index)\n",
    "div_common = div_rf.loc[common_index]\n",
    "rf_common = rf_df.loc[common_index]\n",
    "result = pd.DataFrame(\n",
    "    div_common.values - rf_common.values,\n",
    "    index=common_index,\n",
    "    columns=div_rf.columns\n",
    ")\n",
    "\n",
    "# Apply mean-variance and get weights b and c\n",
    "fund_ret = pd.merge(result, ret_strat, left_index=True, right_index=True)\n",
    "ret_fund, weights_ret = mean_variance(fund_ret)\n",
    "\n",
    "print(f\"The average value of b is : {weights_ret[\"DIV_return\"].mean()}\")\n",
    "print(f\"The average value of c is : {weights_ret[\"STRAT_return\"].mean()}\")\n",
    "\n",
    "\n",
    "\n"
   ]
  },
  {
   "cell_type": "code",
   "execution_count": 189,
   "id": "757231b3",
   "metadata": {},
   "outputs": [
    {
     "data": {
      "application/vnd.microsoft.datawrangler.viewer.v0+json": {
       "columns": [
        {
         "name": "date",
         "rawType": "object",
         "type": "string"
        },
        {
         "name": "MOM",
         "rawType": "float64",
         "type": "float"
        },
        {
         "name": "REV",
         "rawType": "float64",
         "type": "float"
        },
        {
         "name": "CARRY",
         "rawType": "float64",
         "type": "float"
        },
        {
         "name": "DOLLAR",
         "rawType": "float64",
         "type": "float"
        },
        {
         "name": "TBILL",
         "rawType": "float64",
         "type": "float"
        },
        {
         "name": "DIV",
         "rawType": "float64",
         "type": "float"
        }
       ],
       "ref": "45fe8a1f-e38c-4d56-973c-9970662ae351",
       "rows": [
        [
         "2017-05-01",
         "0.5148476541881065",
         "0.6228855556040392",
         "0.7171273000353198",
         "0.8599778771656302",
         "0.8602933262648311",
         "0.13970667373516887"
        ],
        [
         "2017-06-01",
         "0.5031235724683942",
         "0.6073448519780154",
         "0.7027375936542615",
         "0.8526974652480563",
         "0.7881821376670536",
         "0.2118178623329464"
        ],
        [
         "2017-07-01",
         "0.5035269766593425",
         "0.6111708464780182",
         "0.7202236864683597",
         "0.8698423098809444",
         "0.7904515203771865",
         "0.2095484796228136"
        ],
        [
         "2017-08-01",
         "0.511307049425005",
         "0.6165715852205935",
         "0.7655848024905297",
         "0.880911696774796",
         "0.8013703385901016",
         "0.1986296614098983"
        ],
        [
         "2017-09-01",
         "0.5444409438711281",
         "0.655461853089253",
         "0.8192259128504115",
         "0.9469672061561237",
         "0.8214658362356956",
         "0.1785341637643044"
        ],
        [
         "2017-10-01",
         "0.519937474984227",
         "0.6252971960767496",
         "0.7887380319631992",
         "0.9362307992123395",
         "0.8310526525793815",
         "0.1689473474206185"
        ],
        [
         "2017-11-01",
         "0.5284907944192818",
         "0.6306362071972731",
         "0.8141764543811446",
         "0.9396858667219242",
         "0.8238799598541985",
         "0.17612004014580154"
        ],
        [
         "2017-12-01",
         "0.5313559940987898",
         "0.6355568120568911",
         "0.8235553396571265",
         "0.9309443050067682",
         "0.8315611962951902",
         "0.16843880370480982"
        ],
        [
         "2018-01-01",
         "0.5257690723843431",
         "0.6309502050485624",
         "0.8164822367322582",
         "0.9298310609946214",
         "0.8232936562768735",
         "0.17670634372312652"
        ],
        [
         "2018-02-01",
         "0.5284686188437092",
         "0.6282343126466587",
         "0.8125759856783311",
         "0.9178260057201135",
         "0.8158671988128078",
         "0.18413280118719225"
        ],
        [
         "2018-03-01",
         "0.5268843914446061",
         "0.6328373975237935",
         "0.8095553800600417",
         "0.9193309785578222",
         "0.8499061837594513",
         "0.1500938162405488"
        ],
        [
         "2018-04-01",
         "0.5325574659580107",
         "0.6376852317098084",
         "0.8399531071845129",
         "0.9273214801297481",
         "0.8421143141027969",
         "0.15788568589720314"
        ],
        [
         "2018-05-01",
         "0.5269599944145101",
         "0.6328912843378114",
         "0.798009481162872",
         "0.8701878300114891",
         "0.872216349844918",
         "0.12778365015508195"
        ],
        [
         "2018-06-01",
         "0.5594965587186496",
         "0.6595760148127864",
         "0.8404872411994714",
         "0.8452435363290078",
         "0.8612022934207937",
         "0.1387977065792063"
        ],
        [
         "2018-07-01",
         "0.5325522291658207",
         "0.6314561825067176",
         "0.8905667133417917",
         "0.8154052003661391",
         "0.8241484315323684",
         "0.17585156846763164"
        ],
        [
         "2018-08-01",
         "0.6147002216706501",
         "0.7288572629636566",
         "1.0380495649910086",
         "0.9296841319044115",
         "0.9706328248562343",
         "0.029367175143765776"
        ],
        [
         "2018-09-01",
         "0.6264389498702608",
         "0.7206685101549181",
         "1.0519884242805146",
         "0.9342734056369592",
         "0.9267572616613118",
         "0.07324273833868819"
        ],
        [
         "2018-10-01",
         "0.6089081012087504",
         "0.7077441741372498",
         "1.0332804568690432",
         "0.9183588588496535",
         "0.9399139345629285",
         "0.0600860654370715"
        ],
        [
         "2018-11-01",
         "0.6091260280560462",
         "0.6898896666312871",
         "0.9972766600002518",
         "0.9046187769998661",
         "0.9063814311335004",
         "0.09361856886649955"
        ],
        [
         "2018-12-01",
         "0.6149945090635596",
         "0.6932120777910292",
         "0.9901862593271168",
         "0.9072103579495244",
         "0.9048541064492945",
         "0.09514589355070552"
        ],
        [
         "2019-01-01",
         "0.6223040029929535",
         "0.6927396502389687",
         "1.0031393064957814",
         "0.9001907853430612",
         "0.9226984189730337",
         "0.07730158102696623"
        ],
        [
         "2019-02-01",
         "0.6297577190831883",
         "0.6977026589865202",
         "1.009566866163295",
         "0.9071175792853183",
         "0.9029154158827493",
         "0.09708458411725075"
        ],
        [
         "2019-03-01",
         "0.6762798861276983",
         "0.7411744343799511",
         "1.0713746896209329",
         "0.9805772559378562",
         "0.9697968312758767",
         "0.030203168724123278"
        ],
        [
         "2019-04-01",
         "0.678711538216692",
         "0.7359182028109424",
         "1.060513477477669",
         "0.9811784343639633",
         "0.9553708813256989",
         "0.04462911867430105"
        ],
        [
         "2019-05-01",
         "0.6831611013839467",
         "0.7413040223872837",
         "1.08594736305229",
         "0.9934963465482947",
         "0.9520677124651221",
         "0.047932287534877924"
        ],
        [
         "2019-06-01",
         "0.6698977603407087",
         "0.7348909038799107",
         "1.0675639003378667",
         "0.980929933971851",
         "0.9897260321921221",
         "0.01027396780787794"
        ],
        [
         "2019-07-01",
         "0.6697595696078182",
         "0.7263534711613732",
         "1.0512304200073181",
         "0.9874180257186154",
         "0.9678488240033166",
         "0.03215117599668342"
        ],
        [
         "2019-08-01",
         "0.6821600284476246",
         "0.7537022476390336",
         "1.0742297275152555",
         "1.0062150596437562",
         "0.9070254724092207",
         "0.09297452759077927"
        ],
        [
         "2019-09-01",
         "0.7034917727374458",
         "0.747607267023355",
         "1.0126346284601022",
         "0.9810178291900201",
         "0.8894399601654958",
         "0.11056003983450428"
        ],
        [
         "2019-10-01",
         "0.7029141030278732",
         "0.7517405996291052",
         "1.0062744211433068",
         "0.9928084827765656",
         "0.8822814271873618",
         "0.11771857281263824"
        ],
        [
         "2019-11-01",
         "0.7127582255436602",
         "0.7534442238589973",
         "0.9972028454487428",
         "0.9819407265272151",
         "0.8676293822228525",
         "0.13237061777714756"
        ],
        [
         "2019-12-01",
         "0.7104801130734044",
         "0.7467191265764851",
         "0.9931337080894617",
         "0.983282674105193",
         "0.8513543975742677",
         "0.14864560242573233"
        ],
        [
         "2020-01-01",
         "0.7256068769749646",
         "0.760497681104557",
         "1.0132806449017324",
         "0.9874323564229064",
         "0.8138568825055061",
         "0.18614311749449383"
        ],
        [
         "2020-02-01",
         "0.9932453312812001",
         "1.044030143222138",
         "1.4205815105088822",
         "1.354150624448997",
         "0.9582004800238524",
         "0.041799519976147635"
        ],
        [
         "2020-03-01",
         "1.0664734202139468",
         "1.141774011568189",
         "1.334633528589139",
         "1.2611556372578527",
         "1.0753624892077387",
         "-0.07536248920773878"
        ],
        [
         "2020-04-01",
         "0.9569827980872099",
         "1.0243091821419072",
         "1.0406222654785655",
         "1.1273299849190719",
         "0.8144316721544314",
         "0.1855683278455687"
        ],
        [
         "2020-05-01",
         "0.870605453010792",
         "0.8611367215352157",
         "0.9829297129120923",
         "1.089092004071998",
         "0.6948917425155606",
         "0.30510825748443937"
        ],
        [
         "2020-06-01",
         "0.8085026675335342",
         "0.7908851571123738",
         "0.9599331278228078",
         "1.114899693593962",
         "0.6592420327477538",
         "0.34075796725224616"
        ],
        [
         "2020-07-01",
         "0.7947440416202026",
         "0.7684134877842664",
         "0.9407305433988248",
         "1.0418461475180543",
         "0.6325539654896886",
         "0.36744603451031144"
        ],
        [
         "2020-08-01",
         "0.7492191613626954",
         "0.7271658190564453",
         "0.879553258858265",
         "0.9575855665293708",
         "0.664071448258445",
         "0.335928551741555"
        ],
        [
         "2020-09-01",
         "0.7741299870568172",
         "0.7368950628257102",
         "0.9077054821245354",
         "0.9639456087570872",
         "0.5398415354985832",
         "0.46015846450141684"
        ],
        [
         "2020-10-01",
         "0.8133118996071922",
         "0.76451502475104",
         "0.9644033763536733",
         "1.0117180624187623",
         "0.4758361135219511",
         "0.5241638864780489"
        ],
        [
         "2020-11-01",
         "0.7447432793178028",
         "0.6923062011523632",
         "0.8652709569423286",
         "0.9197689262449564",
         "0.5296417302535743",
         "0.47035826974642575"
        ],
        [
         "2020-12-01",
         "0.7035223559194114",
         "0.6592418720832087",
         "0.9100413474141893",
         "0.9137052854515001",
         "0.4873209582327731",
         "0.5126790417672269"
        ],
        [
         "2021-01-01",
         "0.7593717164480144",
         "0.7157349927705364",
         "0.984586399314613",
         "0.9767829877784341",
         "0.42422991050156555",
         "0.5757700894984344"
        ],
        [
         "2021-02-01",
         "0.8315786953536405",
         "0.7624013487554641",
         "1.049240966234328",
         "1.0234277739604096",
         "0.3208551447004615",
         "0.6791448552995385"
        ],
        [
         "2021-03-01",
         "0.9050242664995323",
         "0.8281754066075857",
         "1.1356788006745995",
         "1.1346305089217255",
         "0.23035867769433505",
         "0.769641322305665"
        ],
        [
         "2021-04-01",
         "0.9212452985465812",
         "0.8468418893635408",
         "1.1625750508013586",
         "1.1523681532294254",
         "0.22999719080344216",
         "0.7700028091965578"
        ],
        [
         "2021-05-01",
         "0.900603254040037",
         "0.807789607223513",
         "1.1162306006156888",
         "1.1432280652158973",
         "0.22385281705775295",
         "0.776147182942247"
        ],
        [
         "2021-06-01",
         "0.9092067367214318",
         "0.8109584983639979",
         "1.123048073473792",
         "1.1378591986497923",
         "0.22386626701917323",
         "0.7761337329808268"
        ]
       ],
       "shape": {
        "columns": 6,
        "rows": 92
       }
      },
      "text/html": [
       "<div>\n",
       "<style scoped>\n",
       "    .dataframe tbody tr th:only-of-type {\n",
       "        vertical-align: middle;\n",
       "    }\n",
       "\n",
       "    .dataframe tbody tr th {\n",
       "        vertical-align: top;\n",
       "    }\n",
       "\n",
       "    .dataframe thead th {\n",
       "        text-align: right;\n",
       "    }\n",
       "</style>\n",
       "<table border=\"1\" class=\"dataframe\">\n",
       "  <thead>\n",
       "    <tr style=\"text-align: right;\">\n",
       "      <th></th>\n",
       "      <th>MOM</th>\n",
       "      <th>REV</th>\n",
       "      <th>CARRY</th>\n",
       "      <th>DOLLAR</th>\n",
       "      <th>TBILL</th>\n",
       "      <th>DIV</th>\n",
       "    </tr>\n",
       "    <tr>\n",
       "      <th>date</th>\n",
       "      <th></th>\n",
       "      <th></th>\n",
       "      <th></th>\n",
       "      <th></th>\n",
       "      <th></th>\n",
       "      <th></th>\n",
       "    </tr>\n",
       "  </thead>\n",
       "  <tbody>\n",
       "    <tr>\n",
       "      <th>2017-05-01</th>\n",
       "      <td>0.514848</td>\n",
       "      <td>0.622886</td>\n",
       "      <td>0.717127</td>\n",
       "      <td>0.859978</td>\n",
       "      <td>0.860293</td>\n",
       "      <td>0.139707</td>\n",
       "    </tr>\n",
       "    <tr>\n",
       "      <th>2017-06-01</th>\n",
       "      <td>0.503124</td>\n",
       "      <td>0.607345</td>\n",
       "      <td>0.702738</td>\n",
       "      <td>0.852697</td>\n",
       "      <td>0.788182</td>\n",
       "      <td>0.211818</td>\n",
       "    </tr>\n",
       "    <tr>\n",
       "      <th>2017-07-01</th>\n",
       "      <td>0.503527</td>\n",
       "      <td>0.611171</td>\n",
       "      <td>0.720224</td>\n",
       "      <td>0.869842</td>\n",
       "      <td>0.790452</td>\n",
       "      <td>0.209548</td>\n",
       "    </tr>\n",
       "    <tr>\n",
       "      <th>2017-08-01</th>\n",
       "      <td>0.511307</td>\n",
       "      <td>0.616572</td>\n",
       "      <td>0.765585</td>\n",
       "      <td>0.880912</td>\n",
       "      <td>0.801370</td>\n",
       "      <td>0.198630</td>\n",
       "    </tr>\n",
       "    <tr>\n",
       "      <th>2017-09-01</th>\n",
       "      <td>0.544441</td>\n",
       "      <td>0.655462</td>\n",
       "      <td>0.819226</td>\n",
       "      <td>0.946967</td>\n",
       "      <td>0.821466</td>\n",
       "      <td>0.178534</td>\n",
       "    </tr>\n",
       "    <tr>\n",
       "      <th>...</th>\n",
       "      <td>...</td>\n",
       "      <td>...</td>\n",
       "      <td>...</td>\n",
       "      <td>...</td>\n",
       "      <td>...</td>\n",
       "      <td>...</td>\n",
       "    </tr>\n",
       "    <tr>\n",
       "      <th>2024-08-01</th>\n",
       "      <td>0.569999</td>\n",
       "      <td>0.659335</td>\n",
       "      <td>0.617338</td>\n",
       "      <td>0.821261</td>\n",
       "      <td>0.506124</td>\n",
       "      <td>0.493876</td>\n",
       "    </tr>\n",
       "    <tr>\n",
       "      <th>2024-09-01</th>\n",
       "      <td>0.571428</td>\n",
       "      <td>0.663335</td>\n",
       "      <td>0.614026</td>\n",
       "      <td>0.816903</td>\n",
       "      <td>0.505146</td>\n",
       "      <td>0.494854</td>\n",
       "    </tr>\n",
       "    <tr>\n",
       "      <th>2024-10-01</th>\n",
       "      <td>0.563485</td>\n",
       "      <td>0.657021</td>\n",
       "      <td>0.601764</td>\n",
       "      <td>0.800556</td>\n",
       "      <td>0.511728</td>\n",
       "      <td>0.488272</td>\n",
       "    </tr>\n",
       "    <tr>\n",
       "      <th>2024-11-01</th>\n",
       "      <td>0.557819</td>\n",
       "      <td>0.650410</td>\n",
       "      <td>0.582377</td>\n",
       "      <td>0.778280</td>\n",
       "      <td>0.510616</td>\n",
       "      <td>0.489384</td>\n",
       "    </tr>\n",
       "    <tr>\n",
       "      <th>2024-12-01</th>\n",
       "      <td>0.557039</td>\n",
       "      <td>0.656307</td>\n",
       "      <td>0.587259</td>\n",
       "      <td>0.770735</td>\n",
       "      <td>0.514080</td>\n",
       "      <td>0.485920</td>\n",
       "    </tr>\n",
       "  </tbody>\n",
       "</table>\n",
       "<p>92 rows × 6 columns</p>\n",
       "</div>"
      ],
      "text/plain": [
       "                 MOM       REV     CARRY    DOLLAR     TBILL       DIV\n",
       "date                                                                  \n",
       "2017-05-01  0.514848  0.622886  0.717127  0.859978  0.860293  0.139707\n",
       "2017-06-01  0.503124  0.607345  0.702738  0.852697  0.788182  0.211818\n",
       "2017-07-01  0.503527  0.611171  0.720224  0.869842  0.790452  0.209548\n",
       "2017-08-01  0.511307  0.616572  0.765585  0.880912  0.801370  0.198630\n",
       "2017-09-01  0.544441  0.655462  0.819226  0.946967  0.821466  0.178534\n",
       "...              ...       ...       ...       ...       ...       ...\n",
       "2024-08-01  0.569999  0.659335  0.617338  0.821261  0.506124  0.493876\n",
       "2024-09-01  0.571428  0.663335  0.614026  0.816903  0.505146  0.494854\n",
       "2024-10-01  0.563485  0.657021  0.601764  0.800556  0.511728  0.488272\n",
       "2024-11-01  0.557819  0.650410  0.582377  0.778280  0.510616  0.489384\n",
       "2024-12-01  0.557039  0.656307  0.587259  0.770735  0.514080  0.485920\n",
       "\n",
       "[92 rows x 6 columns]"
      ]
     },
     "execution_count": 189,
     "metadata": {},
     "output_type": "execute_result"
    }
   ],
   "source": [
    "# Q8.c \n",
    "# Calculate the weights of each fund by multiplying c by each weight in STRAT\n",
    "# T-Bill weight = 1-b\n",
    "\n",
    "final_weights = weights_strat.mul(weights_ret[\"STRAT_return\"], axis=0).dropna()\n",
    "final_weights[\"TBILL\"] = 1-weights_ret[\"DIV_return\"]\n",
    "final_weights[\"DIV\"] = weights_ret[\"DIV_return\"]\n",
    "\n",
    "final_weights\n"
   ]
  },
  {
   "cell_type": "code",
   "execution_count": 190,
   "id": "41cac040",
   "metadata": {},
   "outputs": [
    {
     "data": {
      "image/png": "[encoded data removed]",
      "text/plain": [
       "<Figure size 1200x600 with 1 Axes>"
      ]
     },
     "metadata": {},
     "output_type": "display_data"
    }
   ],
   "source": [
    "#Q8.d \n",
    "# Plot the cumulative performance of both DIV-only and DIV+STRAT fund strategies\n",
    "\n",
    "df_strat, df_benchmark = ret_fund.align(df_div_final, join='inner')\n",
    "# Add back the risk-free rate to the second FUND strategy \n",
    "df_final_strat =  risk_free.loc[df_strat.index][\"rf\"] + df_strat\n",
    "cum_strat = (1 + df_final_strat).cumprod()\n",
    "cum_benchmark = (1 + df_benchmark).cumprod()\n",
    "plt.figure(figsize=(12, 6))\n",
    "cum_strat.plot(ax=plt.gca(), label='DIV + STRAT', linewidth=2)\n",
    "cum_benchmark.plot(ax=plt.gca(), label='DIV Only', linewidth=2)\n",
    "\n",
    "plt.title('Cumulative Performance of $1 Invested')\n",
    "plt.xlabel('Date')\n",
    "plt.ylabel('Cumulative Value')\n",
    "plt.grid(True)\n",
    "plt.legend()\n",
    "plt.tight_layout()\n",
    "plt.show()"
   ]
  },
  {
   "cell_type": "code",
   "execution_count": 191,
   "id": "bc75ece8",
   "metadata": {},
   "outputs": [
    {
     "name": "stdout",
     "output_type": "stream",
     "text": [
      "DIV Only : \n",
      "Mean return : 0.1141347626212183\n",
      "Standard deviation : 0.14995185614597586\n",
      "Sharpe ratio : 0.6612871341380505\n"
     ]
    }
   ],
   "source": [
    "#Q8.d \n",
    "# Calculate the mean, std and Sharpe ratio of the DIV only strategy\n",
    "mean = 12*df_div_final[\"DIV Only\"].mean()\n",
    "std = np.sqrt(12)*df_div_final[\"DIV Only\"].std()\n",
    "sharpe = (mean-12*risk_free[\"rf\"].mean())/(std)\n",
    "\n",
    "print(\"DIV Only : \")\n",
    "print(f\"Mean return : {mean}\")\n",
    "print(f\"Standard deviation : {std}\")\n",
    "print(f\"Sharpe ratio : {sharpe}\")"
   ]
  },
  {
   "cell_type": "code",
   "execution_count": 192,
   "id": "5db37e0d",
   "metadata": {},
   "outputs": [
    {
     "name": "stdout",
     "output_type": "stream",
     "text": [
      "DIV + STRAT : \n",
      "Mean = 0.7776550487625855\n",
      "Standard deviation : 0.15319767471111892\n",
      "Sharpe Ratio : 4.978414462158062\n"
     ]
    }
   ],
   "source": [
    "# Q8.d\n",
    "# Calculate the mean, std and Sharpe ratio of the DIV+STRAT strategy\n",
    "mean = 12*df_final_strat.mean()\n",
    "std = np.sqrt(12)*df_final_strat.std()\n",
    "sharpe = (mean-12*risk_free[\"rf\"].mean())/(std)\n",
    "\n",
    "print(\"DIV + STRAT : \")\n",
    "print(f\"Mean = {mean}\")\n",
    "print(f\"Standard deviation : {std}\")\n",
    "print(f\"Sharpe Ratio : {sharpe}\")"
   ]
  }
 ],
 "metadata": {
  "kernelspec": {
   "display_name": "Python 3",
   "language": "python",
   "name": "python3"
  },
  "language_info": {
   "codemirror_mode": {
    "name": "ipython",
    "version": 3
   },
   "file_extension": ".py",
   "mimetype": "text/x-python",
   "name": "python",
   "nbconvert_exporter": "python",
   "pygments_lexer": "ipython3",
   "version": "3.13.1"
  }
 },
 "nbformat": 4,
 "nbformat_minor": 5
}
