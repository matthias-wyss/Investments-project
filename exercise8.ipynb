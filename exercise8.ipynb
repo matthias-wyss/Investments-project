{
 "cells": [
  {
   "cell_type": "code",
   "execution_count": 2,
   "id": "919d0f78",
   "metadata": {},
   "outputs": [],
   "source": [
    "import wrds\n",
    "import pandas as pd\n",
    "import matplotlib.pyplot as plt\n",
    "import csv\n",
    "import glob\n",
    "import os\n",
    "import numpy as np\n",
    "import matplotlib.dates as mdates\n",
    "from numpy.linalg import inv"
   ]
  },
  {
   "cell_type": "markdown",
   "id": "50e86e68",
   "metadata": {},
   "source": [
    "We want to find a such that the annual volatility of $R_{FUND} = R_{T_Bill}(1-a) + aR_{DIV}$ is 15%. Hence, since T-bills are considered as risk-free and the DIV annual standard deviation is known from 3c: \n",
    "\n",
    "$\\sigma(R_{FUND}) = a\\sigma(R_{DIV}) = 15\\% \\implies a = \\frac{0,15}{\\sigma(R_{DIV})}.$  \n",
    "\n",
    "Note that we will not short the DIV portfolio as the average return is positive, so the only negative option of a is not taken into account."
   ]
  },
  {
   "cell_type": "code",
   "execution_count": 19,
   "id": "af04087b",
   "metadata": {},
   "outputs": [
    {
     "name": "stdout",
     "output_type": "stream",
     "text": [
      "0.13988019275502003\n"
     ]
    }
   ],
   "source": [
    "# Q8a\n",
    "div_return = pd.read_csv(\"data/q3/div_return.csv\")\n",
    "div_std = np.sqrt(12)*div_return[\"DIV_return\"].std()\n",
    "a = 0.15/div_std\n",
    "print (div_std)"
   ]
  }
 ],
 "metadata": {
  "kernelspec": {
   "display_name": "Python 3",
   "language": "python",
   "name": "python3"
  },
  "language_info": {
   "codemirror_mode": {
    "name": "ipython",
    "version": 3
   },
   "file_extension": ".py",
   "mimetype": "text/x-python",
   "name": "python",
   "nbconvert_exporter": "python",
   "pygments_lexer": "ipython3",
   "version": "3.13.1"
  }
 },
 "nbformat": 4,
 "nbformat_minor": 5
}
