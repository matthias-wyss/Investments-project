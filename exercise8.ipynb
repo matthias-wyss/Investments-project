{
 "cells": [
  {
   "cell_type": "markdown",
   "id": "50e86e68",
   "metadata": {},
   "source": [
    "We want to find a such that the annual volatility of $R_{fund} = R_{T_Bill} + a(R_{DIV}-R_{R_Bill})$ is 15%. Hence, since T-bills are considered as risk-free : $$\\sigma(R_)$$"
   ]
  }
 ],
 "metadata": {
  "language_info": {
   "name": "python"
  }
 },
 "nbformat": 4,
 "nbformat_minor": 5
}
