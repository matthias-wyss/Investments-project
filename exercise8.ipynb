{
 "cells": [
  {
   "cell_type": "code",
   "execution_count": 381,
   "id": "919d0f78",
   "metadata": {},
   "outputs": [],
   "source": [
    "import wrds\n",
    "import pandas as pd\n",
    "import matplotlib.pyplot as plt\n",
    "import csv\n",
    "import glob\n",
    "import os\n",
    "import numpy as np\n",
    "import matplotlib.dates as mdates\n",
    "from numpy.linalg import inv"
   ]
  },
  {
   "cell_type": "markdown",
   "id": "50e86e68",
   "metadata": {},
   "source": [
    "We want to find a such that the annual volatility of $R_{FUND} = R_{T_{Bill}}(1-a) + aR_{DIV}$ is 15%. Hence, since T-bills are considered as risk-free and the DIV annual standard deviation is known from 3c: \n",
    "\n",
    "$\\sigma(R_{FUND}) = a\\sigma(R_{DIV}) = 15\\% \\implies a = \\frac{0,15}{\\sigma(R_{DIV})}.$  \n",
    "\n",
    "Note that we will not short the DIV portfolio as the average return is positive, so the only negative option of a is not taken into account."
   ]
  },
  {
   "cell_type": "code",
   "execution_count": null,
   "id": "af04087b",
   "metadata": {},
   "outputs": [
    {
     "name": "stdout",
     "output_type": "stream",
     "text": [
      "The average value of a is : 1.072346248926775\n"
     ]
    }
   ],
   "source": [
    "# Q8.1\n",
    "div_return = pd.read_csv(\"data/q3/div_return.csv\").set_index(\"date\")\n",
    "div_std = np.sqrt(12)*div_return[\"DIV_return\"].std()\n",
    "a = 0.15/div_std\n",
    "\n",
    "print(f\"The average value of a is : {a}\")\n"
   ]
  },
  {
   "cell_type": "code",
   "execution_count": null,
   "id": "2004216f",
   "metadata": {},
   "outputs": [],
   "source": [
    "# Q8.1\n",
    "# import MOM, REV, CARRY, DOLLAR, and risk-free\n",
    "mom_ret_df = pd.read_csv(\"data/q4/mom_return.csv\")\n",
    "rev_ret_df = pd.read_csv(\"data/q5/rev_return.csv\")\n",
    "carry_ret_df = pd.read_csv(\"data/q6/carry_returns.csv\")\n",
    "dollar_ret_df = pd.read_csv(\"data/q7/USD_vs_World.csv\")\n",
    "risk_free = pd.read_csv('data/preprocess/tbills.csv').set_index(\"date\")\n",
    "\n",
    "# Merge them in 1 dataframe\n",
    "returns_df = mom_ret_df.merge(rev_ret_df, on=\"date\", how='inner').merge(carry_ret_df, on=\"date\", how='inner').merge(dollar_ret_df, on=\"date\",how='inner')\n",
    "returns_df = returns_df.set_index(\"date\")\n",
    "\n",
    "# Re-create a dataframe with the values of R_fund with DIV only\n",
    "to_align = div_return.index.intersection(risk_free.index)\n",
    "div_strategy = div_return.loc[to_align].mul(a).values + risk_free.loc[to_align].mul(1-a).values\n",
    "df_div_final = pd.DataFrame(div_strategy, columns=[\"DIV Only\"], index=to_align)\n"
   ]
  },
  {
   "cell_type": "code",
   "execution_count": null,
   "id": "3c58b4d4",
   "metadata": {},
   "outputs": [],
   "source": [
    "# q8.2\n",
    "# Adapted risk-free parity calculation method\n",
    "def risk_parity_s(returns: pd.DataFrame, rf_series: pd.Series):\n",
    "    # Volatiliy shifted by 1 to match returns on time t with std until t-1 \n",
    "    rolling_vol = returns.rolling(window=60).std().shift(1).dropna()\n",
    "    inv_vol = 1 / rolling_vol\n",
    "    weights = inv_vol.div(inv_vol.sum(axis=1), axis=0).dropna()\n",
    "    returns_aligned = returns.loc[weights.index]\n",
    "    return_b = (weights * returns_aligned).sum(axis=1).dropna()\n",
    "    mean_b = 12*return_b.mean()\n",
    "    std_b = np.sqrt(12)*return_b.std()\n",
    "    sharpe_b = (mean_b ) / std_b\n",
    "\n",
    "    print(\"RISK-PARITY FOR R_strat : \")\n",
    "    print(f\"Mean return : {mean_b}\")\n",
    "    print(f\"Standard deviation : {std_b}\")\n",
    "    print(f\"Sharpe ratio : {sharpe_b}\")\n",
    "\n",
    "    return return_b.to_frame().rename(columns={0:\"STRAT_return\"}), weights"
   ]
  },
  {
   "cell_type": "code",
   "execution_count": 385,
   "id": "dada65be",
   "metadata": {},
   "outputs": [
    {
     "name": "stdout",
     "output_type": "stream",
     "text": [
      "RISK-PARITY FOR R_strat : \n",
      "Mean return : 0.09984699150896015\n",
      "Standard deviation : 0.03315597003603447\n",
      "Sharpe ratio : 3.0114332773387344\n"
     ]
    }
   ],
   "source": [
    "#Q8.c\n",
    "# Calculate R_strat\n",
    "ret_strat, weights_strat = risk_parity_strat(returns_df, risk_free[\"rf\"])"
   ]
  },
  {
   "cell_type": "code",
   "execution_count": 386,
   "id": "7c861f05",
   "metadata": {},
   "outputs": [],
   "source": [
    "#Q8.c\n",
    "# Adapted mean-variance calculation  method \n",
    "def mean_variance(returns: pd.DataFrame):\n",
    "    rolling_mean = returns.rolling(window=60).mean().dropna()\n",
    "    rolling_cov = returns.rolling(window=60).cov().dropna()\n",
    "    \n",
    "    mv_weights = []\n",
    "    dates_mv = rolling_mean.index\n",
    "    columns = returns.columns\n",
    "\n",
    "    for date in dates_mv:\n",
    "        mu = rolling_mean.loc[date]\n",
    "        Sigma = rolling_cov.loc[date]\n",
    "        w = inv(Sigma) @ mu\n",
    "        mv_weights.append(w)\n",
    "\n",
    "\n",
    "    mv_weights_df = pd.DataFrame(mv_weights, index=dates_mv, columns=columns).shift(1)\n",
    "    returns_aligned_mv = returns.loc[mv_weights_df.index]\n",
    "    weighted_returns = mv_weights_df * returns_aligned_mv\n",
    "    return_c = (weighted_returns).sum(axis=1)\n",
    "    mean_c = 12*return_c.mean()\n",
    "    std_c = np.sqrt(12)*return_c.std()\n",
    "    sharpe_c = mean_c / std_c\n",
    "\n",
    "    print(\"MEAN-VARIANCE BEFORE NORMALIZING : \")\n",
    "    print(f\"Mean return : {mean_c}\")\n",
    "    print(f\"Standard deviation : {std_c}\")\n",
    "    print(f\"Sharpe ratio : {sharpe_c} \\n\")\n",
    "\n",
    "    new_weights = mv_weights_df.multiply(0.15/std_c)\n",
    "    new_returns = new_weights*returns_aligned_mv\n",
    "    return_c = (new_returns).sum(axis=1)\n",
    "    mean_c = 12*return_c.mean()\n",
    "    std_c = np.sqrt(12)*return_c.std()\n",
    "    sharpe_c = mean_c / std_c\n",
    "\n",
    "    print(\"MEAN-VARIANCE AFTER NORMALIZING : \")\n",
    "    print(f\"Mean return : {mean_c}\")\n",
    "    print(f\"Standard deviation : {std_c}\")\n",
    "    print(f\"Sharpe ratio : {sharpe_c} \\n\")\n",
    "\n",
    "    return return_c, new_weights\n"
   ]
  },
  {
   "cell_type": "code",
   "execution_count": 387,
   "id": "c839d4f6",
   "metadata": {},
   "outputs": [
    {
     "name": "stdout",
     "output_type": "stream",
     "text": [
      "MEAN-VARIANCE BEFORE NORMALIZING : \n",
      "Mean return : 18.382730148370833\n",
      "Standard deviation : 4.340476245544782\n",
      "Sharpe ratio : 4.235187363884209 \n",
      "\n",
      "MEAN-VARIANCE AFTER NORMALIZING : \n",
      "Mean return : 0.6352781045826312\n",
      "Standard deviation : 0.14999999999999997\n",
      "Sharpe ratio : 4.235187363884209 \n",
      "\n",
      "The average value of b is : 0.4117619490603253\n",
      "The average value of c is : 4.558270891351612\n"
     ]
    }
   ],
   "source": [
    "# Q8.c\n",
    "# Calculate the weights b and c\n",
    "\n",
    "# Substract the monthly T-bill return to the DIV strategy return to get excess return\n",
    "rf_df = risk_free\n",
    "div_rf = div_return\n",
    "common_index = div_rf.index.intersection(rf_df.index)\n",
    "div_common = div_rf.loc[common_index]\n",
    "rf_common = rf_df.loc[common_index]\n",
    "result = pd.DataFrame(\n",
    "    div_common.values - rf_common.values,\n",
    "    index=common_index,\n",
    "    columns=div_rf.columns\n",
    ")\n",
    "\n",
    "# Apply mean-variance and get weights b and c\n",
    "fund_ret = pd.merge(result, ret_strat, left_index=True, right_index=True)\n",
    "ret_fund, weights_ret = mean_variance(fund_ret)\n",
    "\n",
    "print(f\"The average value of b is : {weights_ret[\"DIV_return\"].mean()}\")\n",
    "print(f\"The average value of c is : {weights_ret[\"STRAT_return\"].mean()}\")\n",
    "\n",
    "\n",
    "\n"
   ]
  },
  {
   "cell_type": "code",
   "execution_count": null,
   "id": "757231b3",
   "metadata": {},
   "outputs": [
    {
     "data": {
      "application/vnd.microsoft.datawrangler.viewer.v0+json": {
       "columns": [
        {
         "name": "date",
         "rawType": "object",
         "type": "string"
        },
        {
         "name": "MOM",
         "rawType": "float64",
         "type": "float"
        },
        {
         "name": "REV",
         "rawType": "float64",
         "type": "float"
        },
        {
         "name": "CARRY",
         "rawType": "float64",
         "type": "float"
        },
        {
         "name": "DOLLAR",
         "rawType": "float64",
         "type": "float"
        }
       ],
       "ref": "48917385-4c41-4c20-b1dc-dab9e8ef9c55",
       "rows": [
        [
         "2012-06-01",
         "0.30019294121202966",
         "0.24728257269118298",
         "0.19018068338364874",
         "0.26234380271313856"
        ],
        [
         "2012-07-01",
         "0.29702464177358734",
         "0.2469153213332321",
         "0.19248170050872773",
         "0.263578336384453"
        ],
        [
         "2012-08-01",
         "0.2968521009120831",
         "0.24692478020773573",
         "0.19330375285624854",
         "0.2629193660239327"
        ],
        [
         "2012-09-01",
         "0.2916696090172703",
         "0.24534017160314825",
         "0.19794217268560588",
         "0.26504804669397564"
        ],
        [
         "2012-10-01",
         "0.29176711523351",
         "0.24612082946154434",
         "0.19699037550170234",
         "0.26512167980324325"
        ],
        [
         "2012-11-01",
         "0.2888706492919841",
         "0.24377138671457504",
         "0.20499360187230356",
         "0.2623643621211374"
        ],
        [
         "2012-12-01",
         "0.2862513025121628",
         "0.2428828313964603",
         "0.20739287741484416",
         "0.26347298867653274"
        ],
        [
         "2013-01-01",
         "0.2853367622753812",
         "0.24231143320186946",
         "0.20516337529859846",
         "0.26718842922415087"
        ],
        [
         "2013-02-01",
         "0.28193703006711074",
         "0.2437841832072704",
         "0.20661919212477936",
         "0.26765959460083943"
        ],
        [
         "2013-03-01",
         "0.28235465875395704",
         "0.2436133394065037",
         "0.20808291113397415",
         "0.2659490907055651"
        ],
        [
         "2013-04-01",
         "0.2795299377894743",
         "0.24164739984658487",
         "0.20784526724021735",
         "0.27097739512372343"
        ],
        [
         "2013-05-01",
         "0.27350015718205367",
         "0.2390541834609025",
         "0.21404233982098578",
         "0.27340331953605806"
        ],
        [
         "2013-06-01",
         "0.2782528232167729",
         "0.24349576121190095",
         "0.21459677714840658",
         "0.2636546384229196"
        ],
        [
         "2013-07-01",
         "0.28376461314036056",
         "0.24555370119796366",
         "0.20932190811675572",
         "0.26135977754492007"
        ],
        [
         "2013-08-01",
         "0.2887987693388594",
         "0.245111626847043",
         "0.2093188118099102",
         "0.25677079200418734"
        ],
        [
         "2013-09-01",
         "0.28743632807957714",
         "0.24903471085636789",
         "0.20254911444501178",
         "0.2609798466190433"
        ],
        [
         "2013-10-01",
         "0.2841873955151708",
         "0.24671115877396974",
         "0.2069859975353985",
         "0.262115448175461"
        ],
        [
         "2013-11-01",
         "0.2639129400359968",
         "0.23480755788267837",
         "0.23372092489427287",
         "0.2675585771870519"
        ],
        [
         "2013-12-01",
         "0.25860783195629783",
         "0.23157275183358642",
         "0.23135322102559533",
         "0.27846619518452054"
        ],
        [
         "2014-01-01",
         "0.2566254509355088",
         "0.23306318127344833",
         "0.22702244193670823",
         "0.2832889258543347"
        ],
        [
         "2014-02-01",
         "0.2566886092252576",
         "0.2332025823981762",
         "0.22712001056257677",
         "0.28298879781398945"
        ],
        [
         "2014-03-01",
         "0.25329231725302603",
         "0.23273445723085706",
         "0.22583453034459602",
         "0.2881386951715209"
        ],
        [
         "2014-04-01",
         "0.2482394046870134",
         "0.23323965493097712",
         "0.22829442810882272",
         "0.2902265122731867"
        ],
        [
         "2014-05-01",
         "0.24561519579201166",
         "0.23210743159672428",
         "0.2364704301329752",
         "0.285806942478289"
        ],
        [
         "2014-06-01",
         "0.2422770906919235",
         "0.229752141629468",
         "0.23659743522471588",
         "0.29137333245389274"
        ],
        [
         "2014-07-01",
         "0.24020359425863663",
         "0.2274030223506267",
         "0.23727233023782393",
         "0.29512105315291287"
        ],
        [
         "2014-08-01",
         "0.24108984413890613",
         "0.2247020560998442",
         "0.23818519949308278",
         "0.29602290026816674"
        ],
        [
         "2014-09-01",
         "0.23125140204443206",
         "0.2275026926954255",
         "0.2434625540858776",
         "0.2977833511742649"
        ],
        [
         "2014-10-01",
         "0.23089752852688641",
         "0.23419555655477542",
         "0.2432507950436556",
         "0.2916561198746826"
        ],
        [
         "2014-11-01",
         "0.23056391900863596",
         "0.24581319182819975",
         "0.23905324442149764",
         "0.28456964474166657"
        ],
        [
         "2014-12-01",
         "0.23191787972985678",
         "0.24709144866687155",
         "0.24006878855630095",
         "0.2809218830469707"
        ],
        [
         "2015-01-01",
         "0.2281268788698586",
         "0.258981796564898",
         "0.23531485168313307",
         "0.27757647288211035"
        ],
        [
         "2015-02-01",
         "0.229466411588054",
         "0.2621329431421951",
         "0.23151138246210667",
         "0.2768892628076444"
        ],
        [
         "2015-03-01",
         "0.2180094986771004",
         "0.2432730326338431",
         "0.24327356840788406",
         "0.29544390028117257"
        ],
        [
         "2015-04-01",
         "0.22255333132187577",
         "0.2460173360005305",
         "0.2416585405499938",
         "0.28977079212759993"
        ],
        [
         "2015-05-01",
         "0.22087310943253996",
         "0.2466444654451657",
         "0.24439035998533779",
         "0.2880920651369566"
        ],
        [
         "2015-06-01",
         "0.2184237741573292",
         "0.24417510054577385",
         "0.24312961719127904",
         "0.2942715081056179"
        ],
        [
         "2015-07-01",
         "0.21844222712426284",
         "0.24491985904573835",
         "0.2427706054539765",
         "0.29386730837602243"
        ],
        [
         "2015-08-01",
         "0.21505359092810702",
         "0.24162069648304432",
         "0.2395843379557427",
         "0.3037413746331059"
        ],
        [
         "2015-09-01",
         "0.21405955111794306",
         "0.2437430418168379",
         "0.2372571872446425",
         "0.30494021982057656"
        ],
        [
         "2015-10-01",
         "0.21268231631633536",
         "0.24371882686029733",
         "0.23324219727069526",
         "0.3103566595526721"
        ],
        [
         "2015-11-01",
         "0.20559174195347585",
         "0.23693643827739463",
         "0.23254586895653387",
         "0.32492595081259573"
        ],
        [
         "2015-12-01",
         "0.20914968587415128",
         "0.23747939731120846",
         "0.23257931955802053",
         "0.32079159725661965"
        ],
        [
         "2016-01-01",
         "0.20770027579600886",
         "0.24088044482061483",
         "0.23157782321687534",
         "0.31984145616650095"
        ],
        [
         "2016-02-01",
         "0.2041712079239629",
         "0.2396713101189915",
         "0.23180760030659475",
         "0.3243498816504508"
        ],
        [
         "2016-03-01",
         "0.2031205553773284",
         "0.23700327140571426",
         "0.23308227970720624",
         "0.3267938935097512"
        ],
        [
         "2016-04-01",
         "0.20091051054313155",
         "0.23325481595770062",
         "0.2314816924461948",
         "0.3343529810529732"
        ],
        [
         "2016-05-01",
         "0.19684954059356563",
         "0.2299781810826555",
         "0.23643245069625657",
         "0.3367398276275224"
        ],
        [
         "2016-06-01",
         "0.201378949366162",
         "0.22778737417870054",
         "0.23378352811566816",
         "0.3370501483394694"
        ],
        [
         "2016-07-01",
         "0.20002525377083752",
         "0.22688273433212344",
         "0.23325690796835014",
         "0.3398351039286889"
        ]
       ],
       "shape": {
        "columns": 4,
        "rows": 151
       }
      },
      "text/html": [
       "<div>\n",
       "<style scoped>\n",
       "    .dataframe tbody tr th:only-of-type {\n",
       "        vertical-align: middle;\n",
       "    }\n",
       "\n",
       "    .dataframe tbody tr th {\n",
       "        vertical-align: top;\n",
       "    }\n",
       "\n",
       "    .dataframe thead th {\n",
       "        text-align: right;\n",
       "    }\n",
       "</style>\n",
       "<table border=\"1\" class=\"dataframe\">\n",
       "  <thead>\n",
       "    <tr style=\"text-align: right;\">\n",
       "      <th></th>\n",
       "      <th>MOM</th>\n",
       "      <th>REV</th>\n",
       "      <th>CARRY</th>\n",
       "      <th>DOLLAR</th>\n",
       "    </tr>\n",
       "    <tr>\n",
       "      <th>date</th>\n",
       "      <th></th>\n",
       "      <th></th>\n",
       "      <th></th>\n",
       "      <th></th>\n",
       "    </tr>\n",
       "  </thead>\n",
       "  <tbody>\n",
       "    <tr>\n",
       "      <th>2012-06-01</th>\n",
       "      <td>0.300193</td>\n",
       "      <td>0.247283</td>\n",
       "      <td>0.190181</td>\n",
       "      <td>0.262344</td>\n",
       "    </tr>\n",
       "    <tr>\n",
       "      <th>2012-07-01</th>\n",
       "      <td>0.297025</td>\n",
       "      <td>0.246915</td>\n",
       "      <td>0.192482</td>\n",
       "      <td>0.263578</td>\n",
       "    </tr>\n",
       "    <tr>\n",
       "      <th>2012-08-01</th>\n",
       "      <td>0.296852</td>\n",
       "      <td>0.246925</td>\n",
       "      <td>0.193304</td>\n",
       "      <td>0.262919</td>\n",
       "    </tr>\n",
       "    <tr>\n",
       "      <th>2012-09-01</th>\n",
       "      <td>0.291670</td>\n",
       "      <td>0.245340</td>\n",
       "      <td>0.197942</td>\n",
       "      <td>0.265048</td>\n",
       "    </tr>\n",
       "    <tr>\n",
       "      <th>2012-10-01</th>\n",
       "      <td>0.291767</td>\n",
       "      <td>0.246121</td>\n",
       "      <td>0.196990</td>\n",
       "      <td>0.265122</td>\n",
       "    </tr>\n",
       "    <tr>\n",
       "      <th>...</th>\n",
       "      <td>...</td>\n",
       "      <td>...</td>\n",
       "      <td>...</td>\n",
       "      <td>...</td>\n",
       "    </tr>\n",
       "    <tr>\n",
       "      <th>2024-08-01</th>\n",
       "      <td>0.213648</td>\n",
       "      <td>0.247133</td>\n",
       "      <td>0.231392</td>\n",
       "      <td>0.307827</td>\n",
       "    </tr>\n",
       "    <tr>\n",
       "      <th>2024-09-01</th>\n",
       "      <td>0.214364</td>\n",
       "      <td>0.248841</td>\n",
       "      <td>0.230344</td>\n",
       "      <td>0.306451</td>\n",
       "    </tr>\n",
       "    <tr>\n",
       "      <th>2024-10-01</th>\n",
       "      <td>0.214839</td>\n",
       "      <td>0.250501</td>\n",
       "      <td>0.229434</td>\n",
       "      <td>0.305226</td>\n",
       "    </tr>\n",
       "    <tr>\n",
       "      <th>2024-11-01</th>\n",
       "      <td>0.217144</td>\n",
       "      <td>0.253188</td>\n",
       "      <td>0.226704</td>\n",
       "      <td>0.302964</td>\n",
       "    </tr>\n",
       "    <tr>\n",
       "      <th>2024-12-01</th>\n",
       "      <td>0.216634</td>\n",
       "      <td>0.255239</td>\n",
       "      <td>0.228386</td>\n",
       "      <td>0.299741</td>\n",
       "    </tr>\n",
       "  </tbody>\n",
       "</table>\n",
       "<p>151 rows × 4 columns</p>\n",
       "</div>"
      ],
      "text/plain": [
       "                 MOM       REV     CARRY    DOLLAR\n",
       "date                                              \n",
       "2012-06-01  0.300193  0.247283  0.190181  0.262344\n",
       "2012-07-01  0.297025  0.246915  0.192482  0.263578\n",
       "2012-08-01  0.296852  0.246925  0.193304  0.262919\n",
       "2012-09-01  0.291670  0.245340  0.197942  0.265048\n",
       "2012-10-01  0.291767  0.246121  0.196990  0.265122\n",
       "...              ...       ...       ...       ...\n",
       "2024-08-01  0.213648  0.247133  0.231392  0.307827\n",
       "2024-09-01  0.214364  0.248841  0.230344  0.306451\n",
       "2024-10-01  0.214839  0.250501  0.229434  0.305226\n",
       "2024-11-01  0.217144  0.253188  0.226704  0.302964\n",
       "2024-12-01  0.216634  0.255239  0.228386  0.299741\n",
       "\n",
       "[151 rows x 4 columns]"
      ]
     },
     "execution_count": 388,
     "metadata": {},
     "output_type": "execute_result"
    }
   ],
   "source": [
    "# Q8.c \n",
    "# Calculate the weights of each fund by multiplying c by each weight in STRAT\n",
    "# T-Bill weight = 1-b\n",
    "\n",
    "final_weights = weights_strat.mul(weights_ret[\"STRAT_return\"], axis=0).dropna()\n",
    "final_weights[\"TBILL\"] = 1-weights_ret[\"DIV_return\"]\n",
    "final_weights[\"DIV\"] = weights_ret[\"DIV_return\"]\n",
    "\n",
    "weights_strat\n"
   ]
  },
  {
   "cell_type": "code",
   "execution_count": 389,
   "id": "41cac040",
   "metadata": {},
   "outputs": [
    {
     "data": {
      "image/png": "[encoded data removed]",
      "text/plain": [
       "<Figure size 1200x600 with 1 Axes>"
      ]
     },
     "metadata": {},
     "output_type": "display_data"
    }
   ],
   "source": [
    "#Q8.d \n",
    "# Plot the cumulative performance of both DIV-only and DIV+STRAT fund strategies\n",
    "\n",
    "df_strat, df_benchmark = ret_fund.align(df_div_final, join='inner')\n",
    "# Add back the risk-free rate to the second FUND strategy \n",
    "df_final_strat =  risk_free.loc[df_strat.index][\"rf\"] + df_strat\n",
    "cum_strat = (1 + df_final_strat).cumprod()\n",
    "cum_benchmark = (1 + df_benchmark).cumprod()\n",
    "plt.figure(figsize=(12, 6))\n",
    "cum_strat.plot(ax=plt.gca(), label='DIV + STRAT', linewidth=2)\n",
    "cum_benchmark.plot(ax=plt.gca(), label='DIV Only', linewidth=2)\n",
    "\n",
    "plt.title('Cumulative Performance of $1 Invested')\n",
    "plt.xlabel('Date')\n",
    "plt.ylabel('Cumulative Value')\n",
    "plt.grid(True)\n",
    "plt.legend()\n",
    "plt.tight_layout()\n",
    "plt.show()"
   ]
  },
  {
   "cell_type": "code",
   "execution_count": 390,
   "id": "bc75ece8",
   "metadata": {},
   "outputs": [
    {
     "name": "stdout",
     "output_type": "stream",
     "text": [
      "DIV Only : \n",
      "Mean return : 0.1141347626212183\n",
      "Standard deviation : 0.14995185614597586\n",
      "Sharpe ratio : 0.6612871341380505\n"
     ]
    }
   ],
   "source": [
    "#Q8.d \n",
    "# Calculate the mean, std and Sharpe ratio of the DIV only strategy\n",
    "mean = 12*df_div_final[\"DIV Only\"].mean()\n",
    "std = np.sqrt(12)*df_div_final[\"DIV Only\"].std()\n",
    "sharpe = (mean-12*risk_free[\"rf\"].mean())/(std)\n",
    "\n",
    "print(\"DIV Only : \")\n",
    "print(f\"Mean return : {mean}\")\n",
    "print(f\"Standard deviation : {std}\")\n",
    "print(f\"Sharpe ratio : {sharpe}\")"
   ]
  },
  {
   "cell_type": "code",
   "execution_count": null,
   "id": "5db37e0d",
   "metadata": {},
   "outputs": [
    {
     "name": "stdout",
     "output_type": "stream",
     "text": [
      "DIV + STRAT : \n",
      "Mean = 0.6562781045826315\n",
      "Standard deviation : 0.15325494481320326\n",
      "Sharpe Ratio : 4.184560413058966\n"
     ]
    }
   ],
   "source": [
    "# Q8.d\n",
    "# Calculate the mean, std and Sharpe ratio of the DIV+STRAT strategy\n",
    "mean = 12*df_final_strat.mean()\n",
    "std = np.sqrt(12)*df_final_strat.std()\n",
    "sharpe = (mean-12*risk_free[\"rf\"].mean())/(std)\n",
    "\n",
    "print(\"DIV + STRAT : \")\n",
    "print(f\"Mean = {mean - 12*risk_free[\"rf\"].mean()}\")\n",
    "print(f\"Standard deviation : {std}\")\n",
    "print(f\"Sharpe Ratio : {sharpe}\")"
   ]
  },
  {
   "cell_type": "code",
   "execution_count": 393,
   "id": "f1bef7b6",
   "metadata": {},
   "outputs": [
    {
     "data": {
      "application/vnd.microsoft.datawrangler.viewer.v0+json": {
       "columns": [
        {
         "name": "date",
         "rawType": "object",
         "type": "string"
        },
        {
         "name": "DIV Only",
         "rawType": "float64",
         "type": "float"
        }
       ],
       "ref": "8022d2b6-1cd6-42bd-8abb-8e6029f7bdd7",
       "rows": [
        [
         "2007-06-01",
         "0.04429701868826967"
        ],
        [
         "2007-07-01",
         "0.004116814617132371"
        ],
        [
         "2007-08-01",
         "-0.02602671924269656"
        ],
        [
         "2007-09-01",
         "0.0009565000995284411"
        ],
        [
         "2007-10-01",
         "0.03206983255507307"
        ],
        [
         "2007-11-01",
         "0.033685329315502326"
        ],
        [
         "2007-12-01",
         "-0.038045375969709395"
        ],
        [
         "2008-01-01",
         "-0.010093866082226887"
        ],
        [
         "2008-02-01",
         "-0.11547371259701505"
        ],
        [
         "2008-03-01",
         "-0.023540639430499024"
        ],
        [
         "2008-04-01",
         "-0.04766198821297442"
        ],
        [
         "2008-05-01",
         "0.051426881382676176"
        ],
        [
         "2008-06-01",
         "0.003367155879118009"
        ],
        [
         "2008-07-01",
         "-0.10497123537670335"
        ],
        [
         "2008-08-01",
         "-0.03260705934925165"
        ],
        [
         "2008-09-01",
         "0.005660069005322679"
        ],
        [
         "2008-10-01",
         "-0.10883327389131255"
        ],
        [
         "2008-11-01",
         "-0.16224679171998277"
        ],
        [
         "2008-12-01",
         "-0.06569424338455808"
        ],
        [
         "2009-01-01",
         "0.005442878641471785"
        ],
        [
         "2009-02-01",
         "-0.07734141993866617"
        ],
        [
         "2009-03-01",
         "-0.08850131469389161"
        ],
        [
         "2009-04-01",
         "0.044532610390535"
        ],
        [
         "2009-05-01",
         "0.11192069667626552"
        ],
        [
         "2009-06-01",
         "0.04226074333875158"
        ],
        [
         "2009-07-01",
         "-0.006731475012391778"
        ],
        [
         "2009-08-01",
         "0.07381618130224436"
        ],
        [
         "2009-09-01",
         "0.04490593825602877"
        ],
        [
         "2009-10-01",
         "0.027780688362583784"
        ],
        [
         "2009-11-01",
         "-0.0342527568392027"
        ],
        [
         "2009-12-01",
         "0.0038993230353583795"
        ],
        [
         "2010-01-01",
         "0.0403730574620576"
        ],
        [
         "2010-02-01",
         "-0.04045375773979797"
        ],
        [
         "2010-03-01",
         "0.007719729025000122"
        ],
        [
         "2010-04-01",
         "0.06413969923268835"
        ],
        [
         "2010-05-01",
         "-0.011819776835785008"
        ],
        [
         "2010-06-01",
         "-0.0757661459001512"
        ],
        [
         "2010-07-01",
         "-0.03815577125544874"
        ],
        [
         "2010-08-01",
         "0.04035866476111132"
        ],
        [
         "2010-09-01",
         "-0.03551382511470725"
        ],
        [
         "2010-10-01",
         "0.05175751194222262"
        ],
        [
         "2010-11-01",
         "0.015273906480921555"
        ],
        [
         "2010-12-01",
         "-0.015320118856484956"
        ],
        [
         "2011-01-01",
         "0.04164881453200356"
        ],
        [
         "2011-02-01",
         "0.0024938217732492214"
        ],
        [
         "2011-03-01",
         "0.02100142011884673"
        ],
        [
         "2011-04-01",
         "-0.03237885522520252"
        ],
        [
         "2011-05-01",
         "0.012415078316009544"
        ],
        [
         "2011-06-01",
         "-0.0227510522634126"
        ],
        [
         "2011-07-01",
         "-0.02719115874831949"
        ]
       ],
       "shape": {
        "columns": 1,
        "rows": 211
       }
      },
      "text/html": [
       "<div>\n",
       "<style scoped>\n",
       "    .dataframe tbody tr th:only-of-type {\n",
       "        vertical-align: middle;\n",
       "    }\n",
       "\n",
       "    .dataframe tbody tr th {\n",
       "        vertical-align: top;\n",
       "    }\n",
       "\n",
       "    .dataframe thead th {\n",
       "        text-align: right;\n",
       "    }\n",
       "</style>\n",
       "<table border=\"1\" class=\"dataframe\">\n",
       "  <thead>\n",
       "    <tr style=\"text-align: right;\">\n",
       "      <th></th>\n",
       "      <th>DIV Only</th>\n",
       "    </tr>\n",
       "    <tr>\n",
       "      <th>date</th>\n",
       "      <th></th>\n",
       "    </tr>\n",
       "  </thead>\n",
       "  <tbody>\n",
       "    <tr>\n",
       "      <th>2007-06-01</th>\n",
       "      <td>0.044297</td>\n",
       "    </tr>\n",
       "    <tr>\n",
       "      <th>2007-07-01</th>\n",
       "      <td>0.004117</td>\n",
       "    </tr>\n",
       "    <tr>\n",
       "      <th>2007-08-01</th>\n",
       "      <td>-0.026027</td>\n",
       "    </tr>\n",
       "    <tr>\n",
       "      <th>2007-09-01</th>\n",
       "      <td>0.000957</td>\n",
       "    </tr>\n",
       "    <tr>\n",
       "      <th>2007-10-01</th>\n",
       "      <td>0.032070</td>\n",
       "    </tr>\n",
       "    <tr>\n",
       "      <th>...</th>\n",
       "      <td>...</td>\n",
       "    </tr>\n",
       "    <tr>\n",
       "      <th>2024-08-01</th>\n",
       "      <td>0.037426</td>\n",
       "    </tr>\n",
       "    <tr>\n",
       "      <th>2024-09-01</th>\n",
       "      <td>0.027117</td>\n",
       "    </tr>\n",
       "    <tr>\n",
       "      <th>2024-10-01</th>\n",
       "      <td>0.024126</td>\n",
       "    </tr>\n",
       "    <tr>\n",
       "      <th>2024-11-01</th>\n",
       "      <td>-0.000444</td>\n",
       "    </tr>\n",
       "    <tr>\n",
       "      <th>2024-12-01</th>\n",
       "      <td>0.034525</td>\n",
       "    </tr>\n",
       "  </tbody>\n",
       "</table>\n",
       "<p>211 rows × 1 columns</p>\n",
       "</div>"
      ],
      "text/plain": [
       "            DIV Only\n",
       "date                \n",
       "2007-06-01  0.044297\n",
       "2007-07-01  0.004117\n",
       "2007-08-01 -0.026027\n",
       "2007-09-01  0.000957\n",
       "2007-10-01  0.032070\n",
       "...              ...\n",
       "2024-08-01  0.037426\n",
       "2024-09-01  0.027117\n",
       "2024-10-01  0.024126\n",
       "2024-11-01 -0.000444\n",
       "2024-12-01  0.034525\n",
       "\n",
       "[211 rows x 1 columns]"
      ]
     },
     "execution_count": 393,
     "metadata": {},
     "output_type": "execute_result"
    }
   ],
   "source": [
    "df_div_final"
   ]
  }
 ],
 "metadata": {
  "kernelspec": {
   "display_name": "Python 3",
   "language": "python",
   "name": "python3"
  },
  "language_info": {
   "codemirror_mode": {
    "name": "ipython",
    "version": 3
   },
   "file_extension": ".py",
   "mimetype": "text/x-python",
   "name": "python",
   "nbconvert_exporter": "python",
   "pygments_lexer": "ipython3",
   "version": "3.13.1"
  }
 },
 "nbformat": 4,
 "nbformat_minor": 5
}
