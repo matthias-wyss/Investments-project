{
 "cells": [
  {
   "cell_type": "code",
   "execution_count": 1,
   "id": "64f26d69",
   "metadata": {},
   "outputs": [],
   "source": [
    "import pandas as pd\n",
    "import numpy as np\n",
    "\n"
   ]
  },
  {
   "cell_type": "code",
   "execution_count": 13,
   "id": "6e47808f",
   "metadata": {},
   "outputs": [
    {
     "name": "stdout",
     "output_type": "stream",
     "text": [
      "            Mkt-RF   SMB   HML   RMW   CMA    RF\n",
      "Date                                            \n",
      "2002-05-01   -1.36 -3.07  1.52  2.31  2.53  0.14\n",
      "2002-06-01   -7.23  3.76  0.37  3.92  2.66  0.13\n",
      "2002-07-01   -8.19 -6.33 -3.51  3.84 -1.10  0.15\n",
      "2002-08-01    0.50 -1.28  3.01  1.37 -1.40  0.14\n",
      "2002-09-01  -10.34  3.05  1.26  3.29 -2.29  0.14\n"
     ]
    }
   ],
   "source": [
    "# from the csv file drop 3 first rows and 2 last ones and convert the data to a pandas dataframe\n",
    "\n",
    "raw_data = pd.read_csv('data/fama-french-5factors/F-F_Research_Data_5_Factors_2x3.csv', skiprows=3, skipfooter=65, engine='python')\n",
    "\n",
    "# call column[0] 'Date' and convert it from \"196307\" to \"1963-07-01\"\n",
    "raw_data.rename(columns={raw_data.columns[0]: 'Date'}, inplace=True)\n",
    "raw_data['Date'] = raw_data['Date'].astype(str).str.zfill(6)  # Ensure all dates are 6 digits\n",
    "# Convert 'Date' from 'YYYYMM' to 'YYYY-MM-DD'\n",
    "raw_data['Date'] = pd.to_datetime(raw_data['Date'], format='%Y%m')\n",
    "# set the 'Date' column as index\n",
    "raw_data.set_index('Date', inplace=True)\n",
    "\n",
    "# drop date before 2002-05-01 and after 2024-12-01\n",
    "raw_data = raw_data[(raw_data.index >= '2002-05-01') & (raw_data.index <= '2024-12-01')]\n",
    "\n",
    "raw_data.to_csv('data/preprocess/fama-french.csv')\n",
    "\n",
    "print(raw_data.head())"
   ]
  },
  {
   "cell_type": "code",
   "execution_count": null,
   "id": "0b99c93a",
   "metadata": {},
   "outputs": [],
   "source": []
  }
 ],
 "metadata": {
  "kernelspec": {
   "display_name": "investments",
   "language": "python",
   "name": "python3"
  },
  "language_info": {
   "codemirror_mode": {
    "name": "ipython",
    "version": 3
   },
   "file_extension": ".py",
   "mimetype": "text/x-python",
   "name": "python",
   "nbconvert_exporter": "python",
   "pygments_lexer": "ipython3",
   "version": "3.9.21"
  }
 },
 "nbformat": 4,
 "nbformat_minor": 5
}
