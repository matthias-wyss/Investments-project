{
 "cells": [
  {
   "cell_type": "code",
   "execution_count": 1,
   "id": "64f26d69",
   "metadata": {},
   "outputs": [],
   "source": [
    "import pandas as pd\n",
    "import numpy as np\n",
    "from scipy import stats\n",
    "import statsmodels.api as sm\n",
    "\n",
    "\n"
   ]
  },
  {
   "cell_type": "code",
   "execution_count": null,
   "id": "6e47808f",
   "metadata": {},
   "outputs": [
    {
     "name": "stdout",
     "output_type": "stream",
     "text": [
      "            Mkt-RF   SMB   HML   RMW   CMA    RF\n",
      "Date                                            \n",
      "2002-05-01   -1.36 -3.07  1.52  2.31  2.53  0.14\n",
      "2002-06-01   -7.23  3.76  0.37  3.92  2.66  0.13\n",
      "2002-07-01   -8.19 -6.33 -3.51  3.84 -1.10  0.15\n",
      "2002-08-01    0.50 -1.28  3.01  1.37 -1.40  0.14\n",
      "2002-09-01  -10.34  3.05  1.26  3.29 -2.29  0.14\n"
     ]
    }
   ],
   "source": [
    "# Data Preprocessing for Fama-French 5 Factors\n",
    "\n",
    "# from the csv file drop 3 first rows and 2 last ones and convert the data to a pandas dataframe\n",
    "raw_data = pd.read_csv('data/fama-french-5factors/F-F_Research_Data_5_Factors_2x3.csv', skiprows=3, skipfooter=65, engine='python')\n",
    "\n",
    "# call column[0] 'Date' \n",
    "raw_data.rename(columns={raw_data.columns[0]: 'Date'}, inplace=True)\n",
    "\n",
    "# Convert 'Date' from 'YYYYMM' to 'YYYY-MM-DD' and set as index\n",
    "raw_data['Date'] = raw_data['Date'].astype(str).str.zfill(6)  # Ensure all dates are 6 digits\n",
    "raw_data['Date'] = pd.to_datetime(raw_data['Date'], format='%Y%m')\n",
    "raw_data.set_index('Date', inplace=True)\n",
    "\n",
    "# drop date before 2002-05-01 and after 2024-12-01\n",
    "raw_data = raw_data[(raw_data.index >= '2002-05-01') & (raw_data.index <= '2024-12-01')]\n",
    "\n",
    "raw_data.to_csv('data/preprocess/fama-french.csv')\n",
    "\n",
    "print(raw_data.head())"
   ]
  },
  {
   "cell_type": "code",
   "execution_count": null,
   "id": "0b99c93a",
   "metadata": {},
   "outputs": [
    {
     "name": "stdout",
     "output_type": "stream",
     "text": [
      "(271, 2)\n"
     ]
    },
    {
     "name": "stderr",
     "output_type": "stream",
     "text": [
      "C:\\Users\\mbera\\AppData\\Local\\Temp\\ipykernel_18044\\1519190397.py:9: FutureWarning: 'M' is deprecated and will be removed in a future version, please use 'ME' instead.\n",
      "  dates = pd.date_range(start='2002-05-01', end='2024-12-01', freq='M')\n"
     ]
    },
    {
     "ename": "AttributeError",
     "evalue": "'DataFrame' object has no attribute 'ret'",
     "output_type": "error",
     "traceback": [
      "\u001b[1;31m---------------------------------------------------------------------------\u001b[0m",
      "\u001b[1;31mAttributeError\u001b[0m                            Traceback (most recent call last)",
      "\u001b[1;32m~\\AppData\\Local\\Temp\\ipykernel_18044\\1519190397.py\u001b[0m in \u001b[0;36m?\u001b[1;34m()\u001b[0m\n\u001b[0;32m     18\u001b[0m \u001b[1;31m# Q9a Regression\u001b[0m\u001b[1;33m\u001b[0m\u001b[1;33m\u001b[0m\u001b[0m\n\u001b[1;32m---> 19\u001b[1;33m \u001b[1;33m\u001b[0m\u001b[0m\n\u001b[0m\u001b[0;32m     20\u001b[0m \u001b[1;31m# Regress the time series of your new strategy returns returns.csv on the the Fama-French 5 research factors preprocess/fama-french.csv. Based on the magnitude of the beta estimates and their t-statistic, which factors seem to be significant drivers of the strategy returns unconditionally? Do these purely US-based risk factors explain the international equity and currency strategy performance well (look at the R2, the βs, and the α from the regression)?\u001b[0m\u001b[1;33m\u001b[0m\u001b[1;33m\u001b[0m\u001b[0m\n\u001b[0;32m     21\u001b[0m \u001b[1;33m\u001b[0m\u001b[0m\n\u001b[0;32m     22\u001b[0m \u001b[0mfama_french\u001b[0m \u001b[1;33m=\u001b[0m \u001b[0mpd\u001b[0m\u001b[1;33m.\u001b[0m\u001b[0mread_csv\u001b[0m\u001b[1;33m(\u001b[0m\u001b[1;34m'data/preprocess/fama-french.csv'\u001b[0m\u001b[1;33m,\u001b[0m \u001b[0mindex_col\u001b[0m\u001b[1;33m=\u001b[0m\u001b[1;34m'Date'\u001b[0m\u001b[1;33m,\u001b[0m \u001b[0mparse_dates\u001b[0m\u001b[1;33m=\u001b[0m\u001b[1;32mTrue\u001b[0m\u001b[1;33m)\u001b[0m\u001b[1;33m\u001b[0m\u001b[1;33m\u001b[0m\u001b[0m\n",
      "\u001b[1;32mc:\\Users\\mbera\\anaconda3\\envs\\investments\\lib\\site-packages\\pandas\\core\\generic.py\u001b[0m in \u001b[0;36m?\u001b[1;34m(self, name)\u001b[0m\n\u001b[0;32m   6295\u001b[0m             \u001b[1;32mand\u001b[0m \u001b[0mname\u001b[0m \u001b[1;32mnot\u001b[0m \u001b[1;32min\u001b[0m \u001b[0mself\u001b[0m\u001b[1;33m.\u001b[0m\u001b[0m_accessors\u001b[0m\u001b[1;33m\u001b[0m\u001b[1;33m\u001b[0m\u001b[0m\n\u001b[0;32m   6296\u001b[0m             \u001b[1;32mand\u001b[0m \u001b[0mself\u001b[0m\u001b[1;33m.\u001b[0m\u001b[0m_info_axis\u001b[0m\u001b[1;33m.\u001b[0m\u001b[0m_can_hold_identifiers_and_holds_name\u001b[0m\u001b[1;33m(\u001b[0m\u001b[0mname\u001b[0m\u001b[1;33m)\u001b[0m\u001b[1;33m\u001b[0m\u001b[1;33m\u001b[0m\u001b[0m\n\u001b[0;32m   6297\u001b[0m         ):\n\u001b[0;32m   6298\u001b[0m             \u001b[1;32mreturn\u001b[0m \u001b[0mself\u001b[0m\u001b[1;33m[\u001b[0m\u001b[0mname\u001b[0m\u001b[1;33m]\u001b[0m\u001b[1;33m\u001b[0m\u001b[1;33m\u001b[0m\u001b[0m\n\u001b[1;32m-> 6299\u001b[1;33m         \u001b[1;32mreturn\u001b[0m \u001b[0mobject\u001b[0m\u001b[1;33m.\u001b[0m\u001b[0m__getattribute__\u001b[0m\u001b[1;33m(\u001b[0m\u001b[0mself\u001b[0m\u001b[1;33m,\u001b[0m \u001b[0mname\u001b[0m\u001b[1;33m)\u001b[0m\u001b[1;33m\u001b[0m\u001b[1;33m\u001b[0m\u001b[0m\n\u001b[0m",
      "\u001b[1;31mAttributeError\u001b[0m: 'DataFrame' object has no attribute 'ret'"
     ]
    }
   ],
   "source": [
    "# Q9a Regression \n",
    "\n",
    "# Regress the time series of your new strategy returns returns.csv on the the Fama-French 5 research factors preprocess/fama-french.csv. Based on the magnitude of the beta estimates and their t-statistic, which factors seem to be significant drivers of the strategy returns unconditionally? Do these purely US-based risk factors explain the international equity and currency strategy performance well (look at the R2, the βs, and the α from the regression)?\n",
    "\n",
    "fama_french = pd.read_csv('data/preprocess/fama-french.csv', index_col='Date', parse_dates=True)\n",
    "\n",
    "# TODO import the strategy returns from a csv file and delete dummy data\n",
    "# strat = pd.read_csv('data/q8/strat_return.csv', index_col='Date', parse_dates=True)\n",
    "\n",
    "\n",
    "# Regress STRAT on Fama-French (Newey-West errors, lag=1)\n",
    "reg_mom_div = pd.DataFrame({\n",
    "    \"STRAT\": strat.ret.iloc[60:],\n",
    "    \"Fama-French\": fama_french\n",
    "}).dropna()\n",
    "\n",
    "X_m = sm.add_constant(reg_mom_div[\"Fama-French\"])\n",
    "y_m = reg_mom_div[\"STRAT\"]\n",
    "strat_on_fama_french = sm.OLS(y_m, X_m).fit()\n",
    "\n",
    "print(\">>> Regression of STRAT on Fama-French:\")\n",
    "print(strat_on_fama_french.summary())\n",
    "print(\"\\n\")\n",
    "\n"
   ]
  },
  {
   "cell_type": "code",
   "execution_count": null,
   "id": "75c11012",
   "metadata": {},
   "outputs": [],
   "source": []
  }
 ],
 "metadata": {
  "kernelspec": {
   "display_name": "investments",
   "language": "python",
   "name": "python3"
  },
  "language_info": {
   "codemirror_mode": {
    "name": "ipython",
    "version": 3
   },
   "file_extension": ".py",
   "mimetype": "text/x-python",
   "name": "python",
   "nbconvert_exporter": "python",
   "pygments_lexer": "ipython3",
   "version": "3.9.21"
  }
 },
 "nbformat": 4,
 "nbformat_minor": 5
}
