{
 "cells": [
  {
   "cell_type": "code",
   "execution_count": 30,
   "id": "9fc1f9bd",
   "metadata": {},
   "outputs": [],
   "source": [
    "import wrds\n",
    "import pandas as pd\n",
    "import matplotlib.pyplot as plt\n",
    "import csv"
   ]
  },
  {
   "cell_type": "code",
   "execution_count": 31,
   "id": "6eea19f4",
   "metadata": {},
   "outputs": [],
   "source": [
    "# Reads monthly exchange rates from CHF to USD and writes the inverted rates (USD to CHF) to a new file.\n",
    "\n",
    "input_file = '../data/monthly_exchange_rate/monthly_CHF_to_one_USD.csv'\n",
    "output_file = '../data/monthly_exchange_rate/monthly_USD_to_one_CHF.csv'\n",
    "\n",
    "with open(input_file, mode='r', newline='') as infile, open(output_file, mode='w', newline='') as outfile:\n",
    "    reader = csv.DictReader(infile)\n",
    "    \n",
    "    fieldnames = ['observation_date', 'EXUSSZ']\n",
    "    writer = csv.DictWriter(outfile, fieldnames=fieldnames)\n",
    "    \n",
    "    writer.writeheader()\n",
    "    for row in reader:\n",
    "        try:\n",
    "            original_rate = float(row['EXSZUS'])\n",
    "            inverted_rate = 1 / original_rate\n",
    "            writer.writerow({\n",
    "                'observation_date': row['observation_date'],\n",
    "                'EXUSSZ': round(inverted_rate, 4)\n",
    "            })\n",
    "        except (ValueError, ZeroDivisionError):\n",
    "            print(f\"Skipped invalid row: {row}\")\n"
   ]
  },
  {
   "cell_type": "code",
   "execution_count": 32,
   "id": "81c3475e",
   "metadata": {},
   "outputs": [],
   "source": [
    "# Reads monthly exchange rates from JPY to USD and writes the inverted rates (USD to JPY) to a new file.\n",
    "\n",
    "input_file = '../data/monthly_exchange_rate/monthly_JPY_to_one_USD.csv'\n",
    "output_file = '../data/monthly_exchange_rate/monthly_USD_to_one_JPY.csv'\n",
    "\n",
    "with open(input_file, mode='r', newline='') as infile, open(output_file, mode='w', newline='') as outfile:\n",
    "    reader = csv.DictReader(infile)\n",
    "    \n",
    "    fieldnames = ['observation_date', 'EXUSJP']\n",
    "    writer = csv.DictWriter(outfile, fieldnames=fieldnames)\n",
    "    \n",
    "    writer.writeheader()\n",
    "    for row in reader:\n",
    "        try:\n",
    "            original_rate = float(row['EXJPUS'])\n",
    "            inverted_rate = 1 / original_rate\n",
    "            writer.writerow({\n",
    "                'observation_date': row['observation_date'],\n",
    "                'EXUSJP': round(inverted_rate, 4)\n",
    "            })\n",
    "        except (ValueError, ZeroDivisionError):\n",
    "            print(f\"Skipped invalid row: {row}\")\n"
   ]
  }
 ],
 "metadata": {
  "kernelspec": {
   "display_name": "base",
   "language": "python",
   "name": "python3"
  },
  "language_info": {
   "codemirror_mode": {
    "name": "ipython",
    "version": 3
   },
   "file_extension": ".py",
   "mimetype": "text/x-python",
   "name": "python",
   "nbconvert_exporter": "python",
   "pygments_lexer": "ipython3",
   "version": "3.11.5"
  }
 },
 "nbformat": 4,
 "nbformat_minor": 5
}
